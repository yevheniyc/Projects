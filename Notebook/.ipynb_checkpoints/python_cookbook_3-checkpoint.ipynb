{
 "cells": [
  {
   "cell_type": "code",
   "execution_count": null,
   "metadata": {
    "collapsed": true
   },
   "outputs": [],
   "source": [
    "##### Chapter 1 #######\n",
    "\n",
    "# 1.1 - Unpacking a Sequence into Separate Variables\n",
    "\n",
    "# Problem: \n",
    "    # Unpack N-element tuple or sequence into a collection of variables\n",
    "p = (4, 5)\n",
    "x, y = p # (4, 5)\n",
    "data = ['ACME', 50, 91.1, (2012, 12, 21)] \n",
    "name, shares, price, (year, mon, day) = data # ('ACME', 50, 91.1, 2012, 12, 21)\n",
    "# unpacking works for any iterable objects: \n",
    "    # strings, files, iterators, generators: s = 'Hello' -> a, b, c, c, e = s\n",
    "# to discard certain variables use _: _, shars, price, _ = data\n",
    "#============================================\n",
    "\n",
    "# 1.2 - Unpacking elements from iterables of arbitrary length\n",
    "\n",
    "# Problem: \n",
    "    # Unpack N elements from an iterable, but the iterable is longer than N\n",
    "\n",
    "# unpack the first and last grades; the middle leave the way it is    \n",
    "def drop_first_last(grades):\n",
    "    first = grades\n",
    "    return avg(middle)\n",
    "grades = [3, 4, 5, 6, 4, 3, 2, 4, 5, 4]\n",
    "avg_without_first_last = drop_first_last(grades) # 4\n",
    "\n",
    "# unpack arbitrary number of phone numbers\n",
    "record = ('Dave', 'dave@example.com', '773-555-1212', '847-555-1212')\n",
    "name, email, *phone_numbers = record # 'Dave', 'dave@...', ['773-555-1212', '847-555-1212']\n",
    "\n",
    "# compare average of all to the current\n",
    "def compare_records_to_last(records):\n",
    "    *trailing_qtrs, current_qtr = records\n",
    "    trailing_avg = sum(trailing_qtrs) / len(trailing_qtrs)\n",
    "    return avg_comparison(trailing_avg, current_qtr)\n",
    "sales_record = [1234, 324, 5456, 324, 567, 1000] \n",
    "compare_records_to_last(sales_record) # compare the records\n",
    "\n",
    "# the \"*\" syntax can be useful when iterating over a sequenc eof tuples\n",
    "#+ of varying length\n",
    "record = [ ('foo', 1, 2), \n",
    "           ('bar', 'hello'), \n",
    "           ('foo', 3, 4)\n",
    "]\n",
    "\n",
    "def do_foo(x, y): \n",
    "    print ('foo', x, y)\n",
    "\n",
    "def do_bar(s): \n",
    "    print ('bar', s)\n",
    "    \n",
    "for tag, *args in records: # here *args represents everything after 'foo'\n",
    "    if tag == 'foo': \n",
    "        do_foo(*args) # here *args unpacks the tupble into variables\n",
    "    elif tag == 'bar': \n",
    "        do_bar(*args)"
   ]
  }
 ],
 "metadata": {
  "kernelspec": {
   "display_name": "Python 3",
   "language": "python",
   "name": "python3"
  },
  "language_info": {
   "codemirror_mode": {
    "name": "ipython",
    "version": 3
   },
   "file_extension": ".py",
   "mimetype": "text/x-python",
   "name": "python",
   "nbconvert_exporter": "python",
   "pygments_lexer": "ipython3",
   "version": "3.4.3"
  }
 },
 "nbformat": 4,
 "nbformat_minor": 0
}

{
 "cells": [
  {
   "cell_type": "code",
   "execution_count": null,
   "metadata": {
    "collapsed": true
   },
   "outputs": [],
   "source": [
    "import re\n",
    "\n",
    "def cutit(s,n):\n",
    "    \"\"\" Cut from the beginning of a string. \"\"\"\n",
    "    return s[n:]\n",
    "\n",
    "def change_file(infile, outfile):\n",
    "    \"\"\" Find numbered lines, remove the numbers, write to a new file.\n",
    "    \"\"\"\n",
    "    for line in infile:\n",
    "        string = re.search(r\"^\\d+\", line)\n",
    "        string_2 = re.search(r\"^\\d+\", line[1:])\n",
    "        if string:\n",
    "            new_line = cutit(line, len(string.group(0)))\n",
    "            outfile.write(new_line)\n",
    "        elif string_2:\n",
    "            new_line = cutit(line, len(string_2.group(0)) + 1)\n",
    "            outfile.write(new_line)\n",
    "        else:\n",
    "            outfile.write(line)\n",
    "\n",
    "with open('/Users/whitehat/Desktop/file_to_parse.txt', 'rb') as infile, open('/Users/whitehat/Desktop/parsed_file.py', 'wb') as outfile:\n",
    "    change_file(infile, outfile)"
   ]
  }
 ],
 "metadata": {
  "kernelspec": {
   "display_name": "Python 3",
   "language": "python",
   "name": "python3"
  },
  "language_info": {
   "codemirror_mode": {
    "name": "ipython",
    "version": 3
   },
   "file_extension": ".py",
   "mimetype": "text/x-python",
   "name": "python",
   "nbconvert_exporter": "python",
   "pygments_lexer": "ipython3",
   "version": "3.4.3"
  }
 },
 "nbformat": 4,
 "nbformat_minor": 0
}

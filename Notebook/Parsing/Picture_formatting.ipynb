{
 "cells": [
  {
   "cell_type": "code",
   "execution_count": 10,
   "metadata": {
    "collapsed": false
   },
   "outputs": [],
   "source": [
    "\"\"\"\n",
    " Fix Wife's picture formatting.\n",
    "\"\"\"\n",
    "import os\n",
    "file_dir = '/Users/whitehat/Desktop/Our_Album/'\n",
    "for dirname, dirnames, filenames in os.walk(file_dir):\n",
    "    for filename in filenames:\n",
    "        new_file_name = str(filename) + \".jpg\"\n",
    "        os.rename(os.path.join(dirname, filename), os.path.join(dirname, new_file_name))"
   ]
  },
  {
   "cell_type": "code",
   "execution_count": null,
   "metadata": {
    "collapsed": true
   },
   "outputs": [],
   "source": []
  }
 ],
 "metadata": {
  "kernelspec": {
   "display_name": "Python 2",
   "language": "python",
   "name": "python2"
  },
  "language_info": {
   "codemirror_mode": {
    "name": "ipython",
    "version": 2
   },
   "file_extension": ".py",
   "mimetype": "text/x-python",
   "name": "python",
   "nbconvert_exporter": "python",
   "pygments_lexer": "ipython2",
   "version": "2.7.9"
  }
 },
 "nbformat": 4,
 "nbformat_minor": 0
}

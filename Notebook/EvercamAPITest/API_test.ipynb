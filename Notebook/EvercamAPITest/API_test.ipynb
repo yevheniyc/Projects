{
 "cells": [
  {
   "cell_type": "code",
   "execution_count": 1,
   "metadata": {
    "collapsed": false
   },
   "outputs": [],
   "source": [
    "import requests\n",
    "import pprint\n",
    "\n",
    "pp = pprint.PrettyPrinter(indent=2)\n",
    "\n",
    "# API Testing\n",
    "r = requests.get('https://api.evercam.io/v1/cameras?api_id=7c238a82&api_key=0f001555dff7c3469b8d21c5ba1db51c')\n",
    "response_dict = r.json()\n",
    "\n",
    "camera_list_info = []\n",
    "for k, cameras in response_dict.iteritems():\n",
    "    for camera in cameras:\n",
    "        temp_dict = {\n",
    "            'id': camera['id'],\n",
    "            'owner': camera['owner'],\n",
    "            'username': camera['cam_username'],\n",
    "            'password': camera['cam_password'],\n",
    "            'vendor_id': camera['vendor_id'],\n",
    "            'host': camera['external']['host'],\n",
    "            'http': camera['external']['http']['camera'],\n",
    "            'rtsp': camera['external']['rtsp']['h264']\n",
    "        }\n",
    "        camera_list_info.append(temp_dict)\n",
    "pp.pprint(camera_list_info)"
   ]
  },
  {
   "cell_type": "code",
   "execution_count": 2,
   "metadata": {
    "collapsed": false
   },
   "outputs": [],
   "source": [
    "r_2 = requests.get('https://api.evercam.io/v1/cameras/my_camera_1?api_id=7c238a82&api_key=0f001555dff7c3469b8d21c5ba1db51c')\n",
    "response_dict_2 = r_2.json()\n",
    "# pp.pprint(response_dict_2)\n",
    "\n",
    "for k, camera in response_dict.iteritems():\n",
    "    pp.pprint(camera[0])\n",
    "    "
   ]
  },
  {
   "cell_type": "code",
   "execution_count": 3,
   "metadata": {
    "collapsed": false
   },
   "outputs": [
    {
     "name": "stdout",
     "output_type": "stream",
     "text": [
      "[ { 'host': u'testme.myvnc.com',\n",
      "    'http': u'http://testme.myvnc.com:17080',\n",
      "    'id': u'my_camera_1',\n",
      "    'owner': u'yevheniyc',\n",
      "    'password': u'123qwe',\n",
      "    'rtsp': u'rtsp://testme.myvnc.com:17054/h264/ch1/main/av_stream',\n",
      "    'username': u'zmadmin',\n",
      "    'vendor_id': u'hikvision'},\n",
      "  { 'host': u'testme.myvnc.com',\n",
      "    'http': u'http://testme.myvnc.com:17080',\n",
      "    'id': u'my_camera_2',\n",
      "    'owner': u'yevheniyc',\n",
      "    'password': u'123qwe',\n",
      "    'rtsp': u'rtsp://testme.myvnc.com:17054/h264/ch1/main/av_stream',\n",
      "    'username': u'zmadmin',\n",
      "    'vendor_id': u'hikvision'},\n",
      "  { 'host': u'testme.myvnc.com',\n",
      "    'http': u'http://testme.myvnc.com:17080',\n",
      "    'id': u'my_camera_3',\n",
      "    'owner': u'yevheniyc',\n",
      "    'password': u'123qwe',\n",
      "    'rtsp': u'rtsp://testme.myvnc.com:17054/h264/ch1/main/av_stream',\n",
      "    'username': u'zmadmin',\n",
      "    'vendor_id': u'hikvision'}]\n"
     ]
    }
   ],
   "source": [
    "# API Testing\n",
    "API_URL = 'https://api.evercam.io/v1/'\n",
    "API_ID = '7c238a82'\n",
    "API_KEY = '0f001555dff7c3469b8d21c5ba1db51c'\n",
    "\n",
    "class SmartcamAPI():\n",
    "    \"\"\" Handle Evercam's APIs.\"\"\"\n",
    "\n",
    "    def __init__(self, api_url, api_id, api_key, api_request):\n",
    "        self.api_url = api_url\n",
    "        self.api_id = api_id\n",
    "        self.api_key = api_key\n",
    "        self.api_request = api_request\n",
    "\n",
    "    def build_api_url(self):\n",
    "        api_name = self.api_url + self.api_request + '?' + 'api_id=' + self.api_id + '&' + 'api_key=' + self.api_key\n",
    "        return api_name\n",
    "\n",
    "    def get_api_response(self):\n",
    "        response = requests.get(self.build_api_url())\n",
    "        response_dict = response.json()\n",
    "        return response_dict\n",
    "\n",
    "    def get_camera_info(self, camera_dict):\n",
    "        temp_dict = {\n",
    "            'id': camera_dict['id'],\n",
    "            'owner': camera_dict['owner'],\n",
    "            'username': camera_dict['cam_username'],\n",
    "            'password': camera_dict['cam_password'],\n",
    "            'vendor_id': camera_dict['vendor_id'],\n",
    "            'host': camera_dict['external']['host'],\n",
    "            'http': camera_dict['external']['http']['camera'],\n",
    "            'rtsp': camera_dict['external']['rtsp']['h264']\n",
    "        }\n",
    "        return temp_dict\n",
    "\n",
    "    def cameras_api_response(self):\n",
    "        camera_list = []\n",
    "        response_dict = self.get_api_response()\n",
    "\n",
    "        for k, cameras in response_dict.iteritems():\n",
    "            for camera in cameras:\n",
    "                temp_dict = self.get_camera_info(camera)\n",
    "                camera_list.append(temp_dict)\n",
    "        return camera_list\n",
    "\n",
    "    def camera_api_response(self):\n",
    "        camera_info = {}\n",
    "        response_dict = self.get_api_response()\n",
    "\n",
    "        for k, values in response_dict.iteritems():\n",
    "            camera = values[0]\n",
    "            camera_info.update(self.get_camera_info(camera))\n",
    "        return camera_info\n",
    "\n",
    "smartcam_obj = SmartcamAPI(API_URL, API_ID, API_KEY, 'cameras')\n",
    "camera_list = smartcam_obj.cameras_api_response()\n",
    "pp.pprint(camera_list)\n",
    "\n",
    "camera_id = 'my_camera_3'\n",
    "smartcam_obj = SmartcamAPI(API_URL, API_ID, API_KEY, 'cameras/' + str(camera_id))\n",
    "camera_info = smartcam_obj.camera_api_response()\n",
    "pp.pprint(camera_info)\n"
   ]
  },
  {
   "cell_type": "code",
   "execution_count": null,
   "metadata": {
    "collapsed": true
   },
   "outputs": [],
   "source": []
  }
 ],
 "metadata": {
  "kernelspec": {
   "display_name": "Python 2",
   "language": "python",
   "name": "python2"
  },
  "language_info": {
   "codemirror_mode": {
    "name": "ipython",
    "version": 2
   },
   "file_extension": ".py",
   "mimetype": "text/x-python",
   "name": "python",
   "nbconvert_exporter": "python",
   "pygments_lexer": "ipython2",
   "version": "2.7.9"
  }
 },
 "nbformat": 4,
 "nbformat_minor": 0
}

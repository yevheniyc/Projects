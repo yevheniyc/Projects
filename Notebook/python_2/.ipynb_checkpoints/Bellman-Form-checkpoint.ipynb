{
 "cells": [
  {
   "cell_type": "code",
   "execution_count": 2,
   "metadata": {
    "collapsed": true
   },
   "outputs": [],
   "source": [
    "import pdb\n",
    "\"\"\"\n",
    "The Bellman-Ford algorithm\n",
    "Graph API:\n",
    "    iter(graph) gives all nodes\n",
    "    iter(graph[u]) gives neighbours of u\n",
    "    graph[u][v] gives weight of edge (u, v)\n",
    "\"\"\"\n",
    "\n",
    "# Step 1: For each node prepare the destination and predecessor\n",
    "def initialize(graph, source):\n",
    "    d = {} # Stands for destination\n",
    "    p = {} # Stands for predecessor\n",
    "    for node in graph:\n",
    "        d[node] = float('Inf') # We start admiting that the rest of nodes are very very far\n",
    "        p[node] = None\n",
    "    d[source] = 0 # For the source we know how to reach\n",
    "    return d, p\n",
    "\n",
    "def relax(node, neighbour, graph, d, p):\n",
    "    # If the distance between the node and the neighbour is lower than the one I have now\n",
    "    if d[neighbour] > d[node] + graph[node][neighbour]:\n",
    "        # Record this lower distance\n",
    "        d[neighbour]  = d[node] + graph[node][neighbour]\n",
    "        p[neighbour] = node\n",
    "\n",
    "def bellman_ford(graph, source):\n",
    "    d, p = initialize(graph, source)\n",
    "    for i in range(len(graph)-1): #Run this until is converges\n",
    "        for u in graph:\n",
    "            for v in graph[u]: #For each neighbour of u\n",
    "                relax(u, v, graph, d, p) #Lets relax it\n",
    "\n",
    "    # Step 3: check for negative-weight cycles\n",
    "    for u in graph:\n",
    "        for v in graph[u]:\n",
    "            assert d[v] <= d[u] + graph[u][v]\n",
    "\n",
    "    return d, p\n",
    "\n",
    "\n",
    "def test():\n",
    "    graph = {\n",
    "        'a': {'b': -1, 'c':  4},\n",
    "        'b': {'c':  3, 'd':  2, 'e':  2},\n",
    "        'c': {},\n",
    "        'd': {'b':  1, 'c':  5},\n",
    "        'e': {'d': -3}\n",
    "        }\n",
    "\n",
    "    d, p = bellman_ford(graph, 'a')\n",
    "\n",
    "    \n",
    "    test_d = {\n",
    "        'a':  0,\n",
    "        'b': -1,\n",
    "        'c':  2,\n",
    "        'd': -2,\n",
    "        'e':  1\n",
    "        }\n",
    "\n",
    "    test_p = {\n",
    "        'a': None,\n",
    "        'b': 'a',\n",
    "        'c': 'b',\n",
    "        'd': 'e',\n",
    "        'e': 'b'\n",
    "        }\n",
    "    assert d == test_d\n",
    "    print 'test for d passed: ', d\n",
    "\n",
    "    assert p == test_p\n",
    "    print 'test for p passed: ', p\n",
    "    \n",
    "test()"
   ]
  },
  {
   "cell_type": "code",
   "execution_count": null,
   "metadata": {
    "collapsed": true
   },
   "outputs": [],
   "source": []
  }
 ],
 "metadata": {
  "kernelspec": {
   "display_name": "Python 2",
   "language": "python",
   "name": "python2"
  },
  "language_info": {
   "codemirror_mode": {
    "name": "ipython",
    "version": 2
   },
   "file_extension": ".py",
   "mimetype": "text/x-python",
   "name": "python",
   "nbconvert_exporter": "python",
   "pygments_lexer": "ipython2",
   "version": "2.7.9"
  }
 },
 "nbformat": 4,
 "nbformat_minor": 0
}

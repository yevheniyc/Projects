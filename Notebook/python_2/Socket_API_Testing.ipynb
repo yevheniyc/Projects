{
 "cells": [
  {
   "cell_type": "code",
   "execution_count": 2,
   "metadata": {
    "collapsed": false
   },
   "outputs": [],
   "source": [
    "import json\n",
    "import random\n",
    "import sys\n",
    "from math import log\n",
    "\n",
    "import socketIO_client\n",
    "import stopit"
   ]
  },
  {
   "cell_type": "code",
   "execution_count": null,
   "metadata": {
    "collapsed": true
   },
   "outputs": [],
   "source": [
    "class WikiNamespace(socketIO_client.BaseNamespace):\n",
    "    def on_change(self, change):\n",
    "        if change['type'] in ('new', 'edit'):\n",
    "            wait = random.lognormvariate(log(1), 1)\n",
    "            change['wait'] = min(max(wait, 0.01), 10)\n",
    "            json.dump(change, sys.stdout)\n",
    "            sys.stdout.write(\"\\n\")\n",
    "            \n",
    "    def on_connect(self):\n",
    "        self.emit(\"subscribe\", \"en.wikipedia.org\")"
   ]
  },
  {
   "cell_type": "code",
   "execution_count": null,
   "metadata": {
    "collapsed": false
   },
   "outputs": [],
   "source": [
    "socketIO = socketIO_client.SocketIO(\"stream.wikipedia.org\", 80)\n",
    "socketIO.define(WikiNamespace, '/rc')\n",
    "\n",
    "with stopit.ThreadingTimeout(5 * 60) as to_ctx_mgr:\n",
    "    try: \n",
    "        socketIO.wait(10000)\n",
    "    except KeyboardInterrupt:\n",
    "        sys.stderr.write(\"Keyboard interrupt detected. Shutting down.\\n\")\n",
    "\n",
    "sys.stderr.write(\"All done.\\n\")"
   ]
  }
 ],
 "metadata": {
  "kernelspec": {
   "display_name": "Python 2",
   "language": "python",
   "name": "python2"
  },
  "language_info": {
   "codemirror_mode": {
    "name": "ipython",
    "version": 2
   },
   "file_extension": ".py",
   "mimetype": "text/x-python",
   "name": "python",
   "nbconvert_exporter": "python",
   "pygments_lexer": "ipython2",
   "version": "2.7.9"
  }
 },
 "nbformat": 4,
 "nbformat_minor": 0
}

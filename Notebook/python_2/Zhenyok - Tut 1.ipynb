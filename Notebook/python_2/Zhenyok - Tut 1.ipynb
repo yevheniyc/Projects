{
 "cells": [
  {
   "cell_type": "code",
   "execution_count": 1,
   "metadata": {
    "collapsed": true
   },
   "outputs": [],
   "source": [
    "import datetime"
   ]
  },
  {
   "cell_type": "code",
   "execution_count": 3,
   "metadata": {
    "collapsed": false
   },
   "outputs": [
    {
     "name": "stdout",
     "output_type": "stream",
     "text": [
      "today:  2015-12-15\n"
     ]
    }
   ],
   "source": [
    "today = datetime.date.today()\n",
    "print \"today: \", today\n",
    "#yesterday = today - datetime.timedelta(days=1) tomorrow = today + datetime.timedelta(days=1) print yesterday, today, tomorrow\n",
    "#emits: 2004-11-17 2004-11-18 2004-11-19"
   ]
  },
  {
   "cell_type": "code",
   "execution_count": 7,
   "metadata": {
    "collapsed": false
   },
   "outputs": [
    {
     "name": "stdout",
     "output_type": "stream",
     "text": [
      "yesterday:  2015-12-14\n"
     ]
    }
   ],
   "source": [
    "yesterday = today - datetime.timedelta(days=1)\n",
    "print \"yesterday: \",  yesterday"
   ]
  },
  {
   "cell_type": "code",
   "execution_count": 9,
   "metadata": {
    "collapsed": false
   },
   "outputs": [
    {
     "name": "stdout",
     "output_type": "stream",
     "text": [
      "2015-12-14 2015-12-15 2015-12-16\n"
     ]
    }
   ],
   "source": [
    "def date_func():\n",
    "    # Prints time lapse\n",
    "    today = datetime.date.today()\n",
    "    yesterday = today - datetime.timedelta(days=1) \n",
    "    tomorrow = today + datetime.timedelta(days=1) \n",
    "    print yesterday, today, tomorrow\n",
    "\n",
    "date_func()"
   ]
  },
  {
   "cell_type": "code",
   "execution_count": 11,
   "metadata": {
    "collapsed": false
   },
   "outputs": [
    {
     "name": "stdout",
     "output_type": "stream",
     "text": [
      "date_1:  2015-12-14\n"
     ]
    }
   ],
   "source": [
    "def date_func_2():\n",
    "    # Returns time lapse\n",
    "    today = datetime.date.today()\n",
    "    yesterday = today - datetime.timedelta(days=1) \n",
    "    tomorrow = today + datetime.timedelta(days=1) \n",
    "    return yesterday\n",
    "\n",
    "date_1, date_2, date_3 = date_func_2()\n",
    "\n",
    "print \"date_1: \", date_1\n",
    "print \"date_2: \", date_2\n",
    "print \"date_3\", date_3"
   ]
  },
  {
   "cell_type": "code",
   "execution_count": 14,
   "metadata": {
    "collapsed": false
   },
   "outputs": [
    {
     "name": "stdout",
     "output_type": "stream",
     "text": [
      "3\n",
      "4\n",
      "5\n"
     ]
    }
   ],
   "source": [
    "# Data Structures: \n",
    "list_ds = [1, 2, 3, 4, 5]\n",
    "for num in list_ds:\n",
    "    if num >= 3:\n",
    "        print num"
   ]
  },
  {
   "cell_type": "code",
   "execution_count": 21,
   "metadata": {
    "collapsed": false
   },
   "outputs": [
    {
     "name": "stdout",
     "output_type": "stream",
     "text": [
      "3\n",
      "4\n",
      "5\n",
      "TICKER:  5\n"
     ]
    }
   ],
   "source": [
    "TIME_TICKER = 0\n",
    "GREATER_THAN_NUM = 2\n",
    "LIST_DS = [1, 2, 3, 4, 5]\n",
    "\n",
    "def print_greater_func(num_greater, list_ds):\n",
    "    global TIME_TICKER\n",
    "    for num in list_ds:\n",
    "        TIME_TICKER += 1\n",
    "        if num > num_greater:\n",
    "            print num\n",
    "    print 'TICKER: ', TIME_TICKER\n",
    "\n",
    "print_greater_func(GREATER_THAN_NUM, LIST_DS)"
   ]
  },
  {
   "cell_type": "code",
   "execution_count": 23,
   "metadata": {
    "collapsed": false
   },
   "outputs": [
    {
     "name": "stdout",
     "output_type": "stream",
     "text": [
      "key:  three    value:  3\n",
      "key:  two    value:  2\n",
      "key:  one    value:  1\n"
     ]
    }
   ],
   "source": [
    "dict = {'one': 1, 'two': 2, 'three': 3}\n",
    "\n",
    "plate_names = {'plate_1': [3, 4, 2.3, 4.5], 'plate_2': [3, 1.2, 4, 5]}\n",
    "\n",
    "# col_1, col_2, col_3\n",
    "#  1      2.3     3.4\n",
    "#  4.3    5.1     1.6\n",
    "\n",
    "# file_1 = {'col_1': [1, 4.3], 'col_2': [2.3, 5.1]}\n",
    "\n",
    "for key, value in dict.iteritems():\n",
    "    print \"key: \", key, \"  \", \"value: \", value\n",
    "    \n",
    "\n",
    "for plate_name, values in plate_names.iteritems():\n",
    "    if plate_name == 'plate_1':\n",
    "        print values\n"
   ]
  }
 ],
 "metadata": {
  "kernelspec": {
   "display_name": "Python 2",
   "language": "python",
   "name": "python2"
  },
  "language_info": {
   "codemirror_mode": {
    "name": "ipython",
    "version": 2
   },
   "file_extension": ".py",
   "mimetype": "text/x-python",
   "name": "python",
   "nbconvert_exporter": "python",
   "pygments_lexer": "ipython2",
   "version": "2.7.9"
  }
 },
 "nbformat": 4,
 "nbformat_minor": 0
}

{
 "cells": [
  {
   "cell_type": "markdown",
   "metadata": {},
   "source": [
    "<img src=\"../../img/logo_white_bkg_small.png\" align=\"left\" /> \n",
    "# Worksheet 3:  EDA Worksheet \n",
    "This worksheet covers concepts covered in the first half of Module 1 - Exploratory Data Analysis in One Dimension.  It should take no more than 20-30 minutes to complete.  Please raise your hand if you get stuck.  \n",
    "\n",
    "There are many ways to accomplish the tasks that you are presented with, however you will find that by using the techniques covered in class, the exercises should be relatively simple. \n",
    "\n",
    "## Import the Libraries\n",
    "For this exercise, we will be using:\n",
    "* Pandas (http://pandas.pydata.org/pandas-docs/stable/)\n",
    "* Numpy (https://docs.scipy.org/doc/numpy/reference/)\n",
    "* Matplotlib (http://matplotlib.org/api/pyplot_api.html)\n"
   ]
  },
  {
   "cell_type": "code",
   "execution_count": 1,
   "metadata": {},
   "outputs": [
    {
     "name": "stdout",
     "output_type": "stream",
     "text": [
      "Populating the interactive namespace from numpy and matplotlib\n"
     ]
    }
   ],
   "source": [
    "import pandas as pd\n",
    "import numpy as np\n",
    "import matplotlib.pyplot as plt\n",
    "plt.style.use('ggplot')\n",
    "%pylab inline"
   ]
  },
  {
   "cell_type": "code",
   "execution_count": 2,
   "metadata": {},
   "outputs": [
    {
     "data": {
      "text/html": [
       "<div>\n",
       "<table border=\"1\" class=\"dataframe\">\n",
       "  <thead>\n",
       "    <tr style=\"text-align: right;\">\n",
       "      <th></th>\n",
       "      <th>hosts</th>\n",
       "      <th>orgs</th>\n",
       "    </tr>\n",
       "  </thead>\n",
       "  <tbody>\n",
       "    <tr>\n",
       "      <th>count</th>\n",
       "      <td>4969.000000</td>\n",
       "      <td>4969.00000</td>\n",
       "    </tr>\n",
       "    <tr>\n",
       "      <th>mean</th>\n",
       "      <td>142.308110</td>\n",
       "      <td>15.31133</td>\n",
       "    </tr>\n",
       "    <tr>\n",
       "      <th>std</th>\n",
       "      <td>240.955294</td>\n",
       "      <td>21.15150</td>\n",
       "    </tr>\n",
       "    <tr>\n",
       "      <th>min</th>\n",
       "      <td>1.000000</td>\n",
       "      <td>1.00000</td>\n",
       "    </tr>\n",
       "    <tr>\n",
       "      <th>25%</th>\n",
       "      <td>10.000000</td>\n",
       "      <td>3.00000</td>\n",
       "    </tr>\n",
       "    <tr>\n",
       "      <th>50%</th>\n",
       "      <td>38.000000</td>\n",
       "      <td>7.00000</td>\n",
       "    </tr>\n",
       "    <tr>\n",
       "      <th>75%</th>\n",
       "      <td>187.000000</td>\n",
       "      <td>16.00000</td>\n",
       "    </tr>\n",
       "    <tr>\n",
       "      <th>max</th>\n",
       "      <td>2031.000000</td>\n",
       "      <td>122.00000</td>\n",
       "    </tr>\n",
       "  </tbody>\n",
       "</table>\n",
       "</div>"
      ],
      "text/plain": [
       "             hosts        orgs\n",
       "count  4969.000000  4969.00000\n",
       "mean    142.308110    15.31133\n",
       "std     240.955294    21.15150\n",
       "min       1.000000     1.00000\n",
       "25%      10.000000     3.00000\n",
       "50%      38.000000     7.00000\n",
       "75%     187.000000    16.00000\n",
       "max    2031.000000   122.00000"
      ]
     },
     "execution_count": 2,
     "metadata": {},
     "output_type": "execute_result"
    }
   ],
   "source": [
    "data = pd.read_csv( '../../data/dailybots.csv' )\n",
    "#Look at a summary of the data\n",
    "data.describe()"
   ]
  },
  {
   "cell_type": "markdown",
   "metadata": {},
   "source": [
    "## Exercise 1: Summarize the Data\n",
    "For this exercise, you are given a Series of random numbers creatively names `random_numbers`.  For the first exercise please do the following:\n",
    "\n",
    "1.  Remove all the numbers less than 10\n",
    "2.  Sort the series\n",
    "3.  Calculate the Tukey 5 number summary for this dataset\n",
    "4.  Count the number of even and odd numbers\n",
    "5.  Find the five largest and 5 smallest numbers in the series"
   ]
  },
  {
   "cell_type": "code",
   "execution_count": 12,
   "metadata": {
    "collapsed": true
   },
   "outputs": [],
   "source": [
    "#Generate a series of random numbers between 1 and 100. \n",
    "random_numbers = pd.Series( np.random.randint(1, 100, 50) )"
   ]
  },
  {
   "cell_type": "code",
   "execution_count": 13,
   "metadata": {},
   "outputs": [
    {
     "name": "stdout",
     "output_type": "stream",
     "text": [
      "Even numbers: 23\n",
      "Odd numbers: 24\n",
      "Smallest Numbers:\n",
      "27    12\n",
      "42    12\n",
      "30    13\n",
      "5     16\n",
      "2     18\n",
      "dtype: int64\n",
      "Largest Numbers:\n",
      "7     95\n",
      "20    96\n",
      "14    96\n",
      "43    97\n",
      "46    98\n",
      "dtype: int64\n"
     ]
    }
   ],
   "source": [
    "#Your code here...\n",
    "#Filter the Series\n",
    "random_numbers = random_numbers[random_numbers >= 10]\n",
    "\n",
    "#Sort the Series\n",
    "random_numbers.sort_values(inplace=True)\n",
    "\n",
    "#Calculate the Tukey 5 Number Summary\n",
    "random_numbers.describe()\n",
    "\n",
    "#Count the number of even and odd numbers\n",
    "even_numbers = random_numbers[random_numbers % 2 == 0].count() \n",
    "odd_numbers = random_numbers[random_numbers % 2 != 0].count() \n",
    "print( \"Even numbers: \" + str(even_numbers))\n",
    "print( \"Odd numbers: \" + str(odd_numbers))\n",
    "\n",
    "#Find the five largest and smallest numbers\n",
    "print( \"Smallest Numbers:\")\n",
    "print( random_numbers.head(5))\n",
    "\n",
    "print( \"Largest Numbers:\")\n",
    "print( random_numbers.tail(5))"
   ]
  },
  {
   "cell_type": "markdown",
   "metadata": {},
   "source": [
    "## Exercise 2: Creating a Histogram\n",
    "Using the random number Series create a histogram with 10 bins."
   ]
  },
  {
   "cell_type": "code",
   "execution_count": 14,
   "metadata": {},
   "outputs": [
    {
     "data": {
      "text/plain": [
       "<matplotlib.axes._subplots.AxesSubplot at 0x1128b5d30>"
      ]
     },
     "execution_count": 14,
     "metadata": {},
     "output_type": "execute_result"
    },
    {
     "data": {
      "image/png": "[encoded data removed]",
      "text/plain": [
       "<matplotlib.figure.Figure at 0x111cd3ac8>"
      ]
     },
     "metadata": {},
     "output_type": "display_data"
    }
   ],
   "source": [
    "#Your code here...\n",
    "random_numbers.hist(bins=10)"
   ]
  },
  {
   "cell_type": "markdown",
   "metadata": {},
   "source": [
    "## Exercise 3:  Counting Values\n",
    "You have been given a list of US phone numbers.  The area code is the first three digits.  Your task is to produce a summary of how many times each area code appears in the list. To do this you will need to:\n",
    "1. Extract the area code from each phone number\n",
    "2. Count the unique occurances."
   ]
  },
  {
   "cell_type": "code",
   "execution_count": 16,
   "metadata": {
    "collapsed": true
   },
   "outputs": [],
   "source": [
    "phone_numbers = [\n",
    "'(833) 759-6854',\n",
    "'(811) 268-9951',\n",
    "'(855) 449-4648',\n",
    "'(833) 212-2929',\n",
    "'(833) 893-7475',\n",
    "'(822) 346-3086',\n",
    "'(844) 259-9074',\n",
    "'(855) 975-8945',\n",
    "'(811) 385-8515',\n",
    "'(811) 523-5090',\n",
    "'(844) 593-5677',\n",
    "'(833) 534-5793',\n",
    "'(899) 898-3043',\n",
    "'(833) 662-7621',\n",
    "'(899) 146-8244',\n",
    "'(822) 793-4965',\n",
    "'(822) 641-7853',\n",
    "'(833) 153-7848',\n",
    "'(811) 958-2930',\n",
    "'(822) 332-3070',\n",
    "'(833) 223-1776',\n",
    "'(811) 397-1451',\n",
    "'(844) 096-0377',\n",
    "'(822) 000-0717',\n",
    "'(899) 311-1880']"
   ]
  },
  {
   "cell_type": "code",
   "execution_count": 18,
   "metadata": {},
   "outputs": [
    {
     "data": {
      "text/plain": [
       "833    7\n",
       "811    5\n",
       "822    5\n",
       "899    3\n",
       "844    3\n",
       "855    2\n",
       "dtype: int64"
      ]
     },
     "execution_count": 18,
     "metadata": {},
     "output_type": "execute_result"
    }
   ],
   "source": [
    "#Your code here...\n",
    "phone_number_series = pd.Series(phone_numbers)\n",
    "area_codes = phone_number_series.str.slice(1,4)\n",
    "area_codes2 = phone_number_series.str.extract( '\\((\\d{3})\\)', expand=False)\n",
    "area_codes2.value_counts()"
   ]
  },
  {
   "cell_type": "markdown",
   "metadata": {},
   "source": [
    "## Exercise 4:  Putting it all together: Bot Analysis\n",
    "First you're going to want to create a data frame from the `dailybots.csv` file which can be found in the `data` directory.  You should be able to do this with the `pd.read_csv()` function.  Take a minute to look at the dataframe because we are going to be using it for to answer several different questions."
   ]
  },
  {
   "cell_type": "code",
   "execution_count": 4,
   "metadata": {},
   "outputs": [
    {
     "data": {
      "text/html": [
       "<div>\n",
       "<table border=\"1\" class=\"dataframe\">\n",
       "  <thead>\n",
       "    <tr style=\"text-align: right;\">\n",
       "      <th></th>\n",
       "      <th>date</th>\n",
       "      <th>botfam</th>\n",
       "      <th>industry</th>\n",
       "      <th>hosts</th>\n",
       "      <th>orgs</th>\n",
       "    </tr>\n",
       "  </thead>\n",
       "  <tbody>\n",
       "    <tr>\n",
       "      <th>0</th>\n",
       "      <td>2016-06-01</td>\n",
       "      <td>Bedep</td>\n",
       "      <td>Education</td>\n",
       "      <td>88</td>\n",
       "      <td>33</td>\n",
       "    </tr>\n",
       "    <tr>\n",
       "      <th>1</th>\n",
       "      <td>2016-06-01</td>\n",
       "      <td>Bedep</td>\n",
       "      <td>Finance</td>\n",
       "      <td>387</td>\n",
       "      <td>17</td>\n",
       "    </tr>\n",
       "    <tr>\n",
       "      <th>2</th>\n",
       "      <td>2016-06-01</td>\n",
       "      <td>Bedep</td>\n",
       "      <td>Government/Politics</td>\n",
       "      <td>430</td>\n",
       "      <td>42</td>\n",
       "    </tr>\n",
       "    <tr>\n",
       "      <th>3</th>\n",
       "      <td>2016-06-01</td>\n",
       "      <td>Bedep</td>\n",
       "      <td>Healthcare/Wellness</td>\n",
       "      <td>42</td>\n",
       "      <td>19</td>\n",
       "    </tr>\n",
       "    <tr>\n",
       "      <th>4</th>\n",
       "      <td>2016-06-01</td>\n",
       "      <td>Bedep</td>\n",
       "      <td>Manufacturing</td>\n",
       "      <td>184</td>\n",
       "      <td>18</td>\n",
       "    </tr>\n",
       "  </tbody>\n",
       "</table>\n",
       "</div>"
      ],
      "text/plain": [
       "         date botfam             industry  hosts  orgs\n",
       "0  2016-06-01  Bedep            Education     88    33\n",
       "1  2016-06-01  Bedep              Finance    387    17\n",
       "2  2016-06-01  Bedep  Government/Politics    430    42\n",
       "3  2016-06-01  Bedep  Healthcare/Wellness     42    19\n",
       "4  2016-06-01  Bedep        Manufacturing    184    18"
      ]
     },
     "execution_count": 4,
     "metadata": {},
     "output_type": "execute_result"
    }
   ],
   "source": [
    "data = pd.read_csv( '../../data/dailybots.csv' )\n",
    "data.head()"
   ]
  },
  {
   "cell_type": "code",
   "execution_count": 5,
   "metadata": {},
   "outputs": [
    {
     "data": {
      "text/html": [
       "<div>\n",
       "<table border=\"1\" class=\"dataframe\">\n",
       "  <thead>\n",
       "    <tr style=\"text-align: right;\">\n",
       "      <th></th>\n",
       "      <th>hosts</th>\n",
       "      <th>orgs</th>\n",
       "    </tr>\n",
       "  </thead>\n",
       "  <tbody>\n",
       "    <tr>\n",
       "      <th>count</th>\n",
       "      <td>4969.000000</td>\n",
       "      <td>4969.00000</td>\n",
       "    </tr>\n",
       "    <tr>\n",
       "      <th>mean</th>\n",
       "      <td>142.308110</td>\n",
       "      <td>15.31133</td>\n",
       "    </tr>\n",
       "    <tr>\n",
       "      <th>std</th>\n",
       "      <td>240.955294</td>\n",
       "      <td>21.15150</td>\n",
       "    </tr>\n",
       "    <tr>\n",
       "      <th>min</th>\n",
       "      <td>1.000000</td>\n",
       "      <td>1.00000</td>\n",
       "    </tr>\n",
       "    <tr>\n",
       "      <th>25%</th>\n",
       "      <td>10.000000</td>\n",
       "      <td>3.00000</td>\n",
       "    </tr>\n",
       "    <tr>\n",
       "      <th>50%</th>\n",
       "      <td>38.000000</td>\n",
       "      <td>7.00000</td>\n",
       "    </tr>\n",
       "    <tr>\n",
       "      <th>75%</th>\n",
       "      <td>187.000000</td>\n",
       "      <td>16.00000</td>\n",
       "    </tr>\n",
       "    <tr>\n",
       "      <th>max</th>\n",
       "      <td>2031.000000</td>\n",
       "      <td>122.00000</td>\n",
       "    </tr>\n",
       "  </tbody>\n",
       "</table>\n",
       "</div>"
      ],
      "text/plain": [
       "             hosts        orgs\n",
       "count  4969.000000  4969.00000\n",
       "mean    142.308110    15.31133\n",
       "std     240.955294    21.15150\n",
       "min       1.000000     1.00000\n",
       "25%      10.000000     3.00000\n",
       "50%      38.000000     7.00000\n",
       "75%     187.000000    16.00000\n",
       "max    2031.000000   122.00000"
      ]
     },
     "execution_count": 5,
     "metadata": {},
     "output_type": "execute_result"
    }
   ],
   "source": [
    "data.describe()"
   ]
  },
  {
   "cell_type": "code",
   "execution_count": 6,
   "metadata": {},
   "outputs": [
    {
     "name": "stdout",
     "output_type": "stream",
     "text": [
      "<class 'pandas.core.frame.DataFrame'>\n",
      "RangeIndex: 4969 entries, 0 to 4968\n",
      "Data columns (total 5 columns):\n",
      "date        4969 non-null object\n",
      "botfam      4969 non-null object\n",
      "industry    4969 non-null object\n",
      "hosts       4969 non-null int64\n",
      "orgs        4969 non-null int64\n",
      "dtypes: int64(2), object(3)\n",
      "memory usage: 194.2+ KB\n"
     ]
    }
   ],
   "source": [
    "data.info()"
   ]
  },
  {
   "cell_type": "code",
   "execution_count": 7,
   "metadata": {},
   "outputs": [
    {
     "data": {
      "text/plain": [
       "Ramnit         540\n",
       "Zeus           540\n",
       "Sality         540\n",
       "ConfickerAB    540\n",
       "zeroaccess     538\n",
       "Bedep          535\n",
       "Necurs         511\n",
       "Zusy           498\n",
       "PushDo         418\n",
       "Olmasco        309\n",
       "Name: botfam, dtype: int64"
      ]
     },
     "execution_count": 7,
     "metadata": {},
     "output_type": "execute_result"
    }
   ],
   "source": [
    "data['botfam'].value_counts()"
   ]
  },
  {
   "cell_type": "markdown",
   "metadata": {},
   "source": [
    "### Part 1: Which industry sees the most Ramnit infections? Least?\n",
    "\n",
    "Count the number of infected days for \"Ramnit\" in each industry industry. \n",
    "How: \n",
    "1.  First filter the data to remove all the infections we don't care about\n",
    "2.  Aggregate the data on the column of interest. HINT:  You might want to use the `groupby()` function\n",
    "3.  Add up the results "
   ]
  },
  {
   "cell_type": "code",
   "execution_count": 8,
   "metadata": {},
   "outputs": [
    {
     "data": {
      "text/html": [
       "<div>\n",
       "<table border=\"1\" class=\"dataframe\">\n",
       "  <thead>\n",
       "    <tr style=\"text-align: right;\">\n",
       "      <th></th>\n",
       "      <th>hosts</th>\n",
       "      <th>orgs</th>\n",
       "    </tr>\n",
       "    <tr>\n",
       "      <th>industry</th>\n",
       "      <th></th>\n",
       "      <th></th>\n",
       "    </tr>\n",
       "  </thead>\n",
       "  <tbody>\n",
       "    <tr>\n",
       "      <th>Education</th>\n",
       "      <td>7492</td>\n",
       "      <td>3949</td>\n",
       "    </tr>\n",
       "    <tr>\n",
       "      <th>Finance</th>\n",
       "      <td>2281</td>\n",
       "      <td>1357</td>\n",
       "    </tr>\n",
       "    <tr>\n",
       "      <th>Government/Politics</th>\n",
       "      <td>4484</td>\n",
       "      <td>448</td>\n",
       "    </tr>\n",
       "    <tr>\n",
       "      <th>Healthcare/Wellness</th>\n",
       "      <td>544</td>\n",
       "      <td>473</td>\n",
       "    </tr>\n",
       "    <tr>\n",
       "      <th>Manufacturing</th>\n",
       "      <td>46303</td>\n",
       "      <td>1155</td>\n",
       "    </tr>\n",
       "    <tr>\n",
       "      <th>Retail</th>\n",
       "      <td>17649</td>\n",
       "      <td>558</td>\n",
       "    </tr>\n",
       "  </tbody>\n",
       "</table>\n",
       "</div>"
      ],
      "text/plain": [
       "                     hosts  orgs\n",
       "industry                        \n",
       "Education             7492  3949\n",
       "Finance               2281  1357\n",
       "Government/Politics   4484   448\n",
       "Healthcare/Wellness    544   473\n",
       "Manufacturing        46303  1155\n",
       "Retail               17649   558"
      ]
     },
     "execution_count": 8,
     "metadata": {},
     "output_type": "execute_result"
    }
   ],
   "source": [
    "grouped_df = data[data.botfam == \"Ramnit\"].groupby(['industry'])\n",
    "grouped_df.sum()"
   ]
  },
  {
   "cell_type": "markdown",
   "metadata": {},
   "source": [
    "### Part 2: Calculate the min, max, median and mean infected orgs for each bot family, sort by median\n",
    "In this exercise, you are asked to calculate the min, max, median and mean of infected orgs for each bot family sorted by median.  HINT:\n",
    "1.  Using the `groupby()` function, create a grouped data frame\n",
    "2.  You can do this one metric at a time OR you can use the .agg() function. You might want to refer to the documentation here:  http://pandas.pydata.org/pandas-docs/stable/groupby.html#applying-multiple-functions-at-once\n",
    "3.  Sort the values (HINT HINT) by the median column"
   ]
  },
  {
   "cell_type": "code",
   "execution_count": 9,
   "metadata": {},
   "outputs": [
    {
     "data": {
      "text/html": [
       "<div>\n",
       "<table border=\"1\" class=\"dataframe\">\n",
       "  <thead>\n",
       "    <tr>\n",
       "      <th></th>\n",
       "      <th colspan=\"5\" halign=\"left\">orgs</th>\n",
       "    </tr>\n",
       "    <tr>\n",
       "      <th></th>\n",
       "      <th>amin</th>\n",
       "      <th>amax</th>\n",
       "      <th>mean</th>\n",
       "      <th>median</th>\n",
       "      <th>std</th>\n",
       "    </tr>\n",
       "    <tr>\n",
       "      <th>botfam</th>\n",
       "      <th></th>\n",
       "      <th></th>\n",
       "      <th></th>\n",
       "      <th></th>\n",
       "      <th></th>\n",
       "    </tr>\n",
       "  </thead>\n",
       "  <tbody>\n",
       "    <tr>\n",
       "      <th>ConfickerAB</th>\n",
       "      <td>27</td>\n",
       "      <td>122</td>\n",
       "      <td>63.035185</td>\n",
       "      <td>56.5</td>\n",
       "      <td>25.619679</td>\n",
       "    </tr>\n",
       "    <tr>\n",
       "      <th>Sality</th>\n",
       "      <td>2</td>\n",
       "      <td>43</td>\n",
       "      <td>15.909259</td>\n",
       "      <td>12.0</td>\n",
       "      <td>9.961946</td>\n",
       "    </tr>\n",
       "    <tr>\n",
       "      <th>Necurs</th>\n",
       "      <td>1</td>\n",
       "      <td>115</td>\n",
       "      <td>16.739726</td>\n",
       "      <td>11.0</td>\n",
       "      <td>16.644046</td>\n",
       "    </tr>\n",
       "    <tr>\n",
       "      <th>Ramnit</th>\n",
       "      <td>1</td>\n",
       "      <td>60</td>\n",
       "      <td>14.703704</td>\n",
       "      <td>9.0</td>\n",
       "      <td>14.485780</td>\n",
       "    </tr>\n",
       "    <tr>\n",
       "      <th>Zeus</th>\n",
       "      <td>1</td>\n",
       "      <td>36</td>\n",
       "      <td>9.988889</td>\n",
       "      <td>8.0</td>\n",
       "      <td>6.687004</td>\n",
       "    </tr>\n",
       "    <tr>\n",
       "      <th>Bedep</th>\n",
       "      <td>1</td>\n",
       "      <td>42</td>\n",
       "      <td>8.016822</td>\n",
       "      <td>6.0</td>\n",
       "      <td>6.192125</td>\n",
       "    </tr>\n",
       "    <tr>\n",
       "      <th>zeroaccess</th>\n",
       "      <td>1</td>\n",
       "      <td>19</td>\n",
       "      <td>5.481413</td>\n",
       "      <td>5.0</td>\n",
       "      <td>2.999787</td>\n",
       "    </tr>\n",
       "    <tr>\n",
       "      <th>Zusy</th>\n",
       "      <td>1</td>\n",
       "      <td>20</td>\n",
       "      <td>5.279116</td>\n",
       "      <td>4.0</td>\n",
       "      <td>4.204578</td>\n",
       "    </tr>\n",
       "    <tr>\n",
       "      <th>PushDo</th>\n",
       "      <td>1</td>\n",
       "      <td>12</td>\n",
       "      <td>2.882775</td>\n",
       "      <td>2.0</td>\n",
       "      <td>2.535719</td>\n",
       "    </tr>\n",
       "    <tr>\n",
       "      <th>Olmasco</th>\n",
       "      <td>1</td>\n",
       "      <td>6</td>\n",
       "      <td>1.592233</td>\n",
       "      <td>1.0</td>\n",
       "      <td>0.722148</td>\n",
       "    </tr>\n",
       "  </tbody>\n",
       "</table>\n",
       "</div>"
      ],
      "text/plain": [
       "            orgs                                  \n",
       "            amin amax       mean median        std\n",
       "botfam                                            \n",
       "ConfickerAB   27  122  63.035185   56.5  25.619679\n",
       "Sality         2   43  15.909259   12.0   9.961946\n",
       "Necurs         1  115  16.739726   11.0  16.644046\n",
       "Ramnit         1   60  14.703704    9.0  14.485780\n",
       "Zeus           1   36   9.988889    8.0   6.687004\n",
       "Bedep          1   42   8.016822    6.0   6.192125\n",
       "zeroaccess     1   19   5.481413    5.0   2.999787\n",
       "Zusy           1   20   5.279116    4.0   4.204578\n",
       "PushDo         1   12   2.882775    2.0   2.535719\n",
       "Olmasco        1    6   1.592233    1.0   0.722148"
      ]
     },
     "execution_count": 9,
     "metadata": {},
     "output_type": "execute_result"
    }
   ],
   "source": [
    "group2 = data[['botfam','orgs']].groupby( ['botfam'])\n",
    "summary = group2.agg([np.min, np.max, np.mean, np.median, np.std])\n",
    "summary.sort_values( [('orgs', 'median')], ascending=False)"
   ]
  },
  {
   "cell_type": "markdown",
   "metadata": {},
   "source": [
    "### Part 3: Which date had the total most bot infections and how many infections on that day?\n",
    "For the next step, aggregate and sum the number of infections (hosts) by date.  Once you've done that, the next step is to sort in descending order. "
   ]
  },
  {
   "cell_type": "code",
   "execution_count": 10,
   "metadata": {},
   "outputs": [
    {
     "data": {
      "text/html": [
       "<div>\n",
       "<table border=\"1\" class=\"dataframe\">\n",
       "  <thead>\n",
       "    <tr style=\"text-align: right;\">\n",
       "      <th></th>\n",
       "      <th>hosts</th>\n",
       "    </tr>\n",
       "    <tr>\n",
       "      <th>date</th>\n",
       "      <th></th>\n",
       "    </tr>\n",
       "  </thead>\n",
       "  <tbody>\n",
       "    <tr>\n",
       "      <th>2016-06-02</th>\n",
       "      <td>11352</td>\n",
       "    </tr>\n",
       "    <tr>\n",
       "      <th>2016-06-08</th>\n",
       "      <td>10716</td>\n",
       "    </tr>\n",
       "    <tr>\n",
       "      <th>2016-06-09</th>\n",
       "      <td>10476</td>\n",
       "    </tr>\n",
       "    <tr>\n",
       "      <th>2016-06-07</th>\n",
       "      <td>10383</td>\n",
       "    </tr>\n",
       "    <tr>\n",
       "      <th>2016-06-03</th>\n",
       "      <td>10336</td>\n",
       "    </tr>\n",
       "    <tr>\n",
       "      <th>2016-06-06</th>\n",
       "      <td>10125</td>\n",
       "    </tr>\n",
       "    <tr>\n",
       "      <th>2016-06-10</th>\n",
       "      <td>10106</td>\n",
       "    </tr>\n",
       "    <tr>\n",
       "      <th>2016-06-14</th>\n",
       "      <td>9820</td>\n",
       "    </tr>\n",
       "    <tr>\n",
       "      <th>2016-06-15</th>\n",
       "      <td>9738</td>\n",
       "    </tr>\n",
       "    <tr>\n",
       "      <th>2016-06-20</th>\n",
       "      <td>9461</td>\n",
       "    </tr>\n",
       "  </tbody>\n",
       "</table>\n",
       "</div>"
      ],
      "text/plain": [
       "            hosts\n",
       "date             \n",
       "2016-06-02  11352\n",
       "2016-06-08  10716\n",
       "2016-06-09  10476\n",
       "2016-06-07  10383\n",
       "2016-06-03  10336\n",
       "2016-06-06  10125\n",
       "2016-06-10  10106\n",
       "2016-06-14   9820\n",
       "2016-06-15   9738\n",
       "2016-06-20   9461"
      ]
     },
     "execution_count": 10,
     "metadata": {},
     "output_type": "execute_result"
    }
   ],
   "source": [
    "df3 = data[['date','hosts']].groupby('date').sum()\n",
    "df3.sort_values(by='hosts', ascending=False).head(10)"
   ]
  },
  {
   "cell_type": "markdown",
   "metadata": {},
   "source": [
    "### Part 4: Plot the daily infected hosts for Necurs, Ramnit and PushDo\n",
    "For the final step, you're going to plot the daily infected hosts for three infection types.  In order to do this, you'll need to do the following steps:\n",
    "1.  Filter the data to remove the botfamilies we don't care about. \n",
    "2.  Use `groupby()` to aggregate the data by date and family, then sum up the hosts in each group\n",
    "3.  Plot the data.  Hint:  You might want to use the `unstack()` function to prepare the data for plotting. \n",
    "4.  Use the `plot()` method to plot the results. "
   ]
  },
  {
   "cell_type": "code",
   "execution_count": 11,
   "metadata": {},
   "outputs": [
    {
     "data": {
      "text/plain": [
       "<matplotlib.axes._subplots.AxesSubplot at 0x1127e0f60>"
      ]
     },
     "execution_count": 11,
     "metadata": {},
     "output_type": "execute_result"
    },
    {
     "data": {
      "image/png": "[encoded data removed]",
      "text/plain": [
       "<matplotlib.figure.Figure at 0x1127f3240>"
      ]
     },
     "metadata": {},
     "output_type": "display_data"
    }
   ],
   "source": [
    "filteredData = data[ data['botfam'].isin(['Necurs', 'Ramnit', 'PushDo']) ][['date', 'botfam', 'hosts']]\n",
    "groupedFilteredData = filteredData.groupby( ['date', 'botfam']).sum()\n",
    "groupedFilteredData.unstack(level=1).plot(kind='line', subplots=False)"
   ]
  },
  {
   "cell_type": "code",
   "execution_count": null,
   "metadata": {
    "collapsed": true
   },
   "outputs": [],
   "source": []
  }
 ],
 "metadata": {
  "kernelspec": {
   "display_name": "Python [conda root]",
   "language": "python",
   "name": "conda-root-py"
  },
  "language_info": {
   "codemirror_mode": {
    "name": "ipython",
    "version": 3
   },
   "file_extension": ".py",
   "mimetype": "text/x-python",
   "name": "python",
   "nbconvert_exporter": "python",
   "pygments_lexer": "ipython3",
   "version": "3.5.3"
  }
 },
 "nbformat": 4,
 "nbformat_minor": 2
}

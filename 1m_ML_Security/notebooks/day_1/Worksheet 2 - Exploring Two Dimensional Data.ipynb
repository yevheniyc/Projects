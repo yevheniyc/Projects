{
 "cells": [
  {
   "cell_type": "markdown",
   "metadata": {},
   "source": [
    "<img src=\"../../img/logo_white_bkg_small.png\" align=\"left\" /> \n",
    "# Worksheet 2:  Exploring Two Dimensional Data\n",
    "This worksheet covers concepts covered in the second half of Module 1 - Exploratory Data Analysis in Two Dimensions.  It should take no more than 20-30 minutes to complete.  Please raise your hand if you get stuck.  \n",
    "\n",
    "There are many ways to accomplish the tasks that you are presented with, however you will find that by using the techniques covered in class, the exercises should be relatively simple. \n",
    "\n",
    "## Import the Libraries\n",
    "For this exercise, we will be using:\n",
    "* Pandas (http://pandas.pydata.org/pandas-docs/stable/)\n",
    "* Numpy (https://docs.scipy.org/doc/numpy/reference/)\n",
    "* Matplotlib (http://matplotlib.org/api/pyplot_api.html)\n"
   ]
  },
  {
   "cell_type": "code",
   "execution_count": 1,
   "metadata": {},
   "outputs": [
    {
     "name": "stdout",
     "output_type": "stream",
     "text": [
      "Populating the interactive namespace from numpy and matplotlib\n"
     ]
    }
   ],
   "source": [
    "import pandas as pd\n",
    "import numpy as np\n",
    "import matplotlib.pyplot as plt\n",
    "plt.style.use('ggplot')\n",
    "%pylab inline"
   ]
  },
  {
   "cell_type": "markdown",
   "metadata": {},
   "source": [
    "## Exercise 1: Reading various forms of JSON Data\n",
    "In the `/data/` folder, you will find a series of `.json` files called `dataN.json`, numbered 1-4.  Each file contains the following data:\n",
    "\n",
    "\n",
    "| |birthday\t| first_name |last_name |\n",
    "|--|-----------|------------|----------|\n",
    "|0\t|5\\/3\\/67\t|Robert\t|Hernandez |\n",
    "|1\t|8\\/4\\/84\t|Steve\t|Smith |\n",
    "|2\t|9\\/13\\/91\t|Anne\t|Raps |\n",
    "|3\t|4\\/15\\/75\t|Alice\t|Muller |\n",
    "\n",
    "Using the `.read_json()` function and the various configuration options, read all these files into a dataframe.  The documentation is available here: http://pandas.pydata.org/pandas-docs/stable/generated/pandas.read_json.html."
   ]
  },
  {
   "cell_type": "code",
   "execution_count": 47,
   "metadata": {},
   "outputs": [
    {
     "data": {
      "text/html": [
       "<div>\n",
       "<style>\n",
       "    .dataframe thead tr:only-child th {\n",
       "        text-align: right;\n",
       "    }\n",
       "\n",
       "    .dataframe thead th {\n",
       "        text-align: left;\n",
       "    }\n",
       "\n",
       "    .dataframe tbody tr th {\n",
       "        vertical-align: top;\n",
       "    }\n",
       "</style>\n",
       "<table border=\"1\" class=\"dataframe\">\n",
       "  <thead>\n",
       "    <tr style=\"text-align: right;\">\n",
       "      <th></th>\n",
       "      <th>birthday</th>\n",
       "      <th>first_name</th>\n",
       "      <th>last_name</th>\n",
       "    </tr>\n",
       "  </thead>\n",
       "  <tbody>\n",
       "    <tr>\n",
       "      <th>0</th>\n",
       "      <td>5\\/3\\/67</td>\n",
       "      <td>Robert</td>\n",
       "      <td>Hernandez</td>\n",
       "    </tr>\n",
       "    <tr>\n",
       "      <th>1</th>\n",
       "      <td>8\\/4\\/84</td>\n",
       "      <td>Steve</td>\n",
       "      <td>Smith</td>\n",
       "    </tr>\n",
       "    <tr>\n",
       "      <th>2</th>\n",
       "      <td>9\\/13\\/91</td>\n",
       "      <td>Anne</td>\n",
       "      <td>Raps</td>\n",
       "    </tr>\n",
       "    <tr>\n",
       "      <th>3</th>\n",
       "      <td>4\\/15\\/75</td>\n",
       "      <td>Alice</td>\n",
       "      <td>Muller</td>\n",
       "    </tr>\n",
       "    <tr>\n",
       "      <th>4</th>\n",
       "      <td>5\\/3\\/67</td>\n",
       "      <td>Robert</td>\n",
       "      <td>Hernandez</td>\n",
       "    </tr>\n",
       "    <tr>\n",
       "      <th>5</th>\n",
       "      <td>8\\/4\\/84</td>\n",
       "      <td>Steve</td>\n",
       "      <td>Smith</td>\n",
       "    </tr>\n",
       "    <tr>\n",
       "      <th>6</th>\n",
       "      <td>9\\/13\\/91</td>\n",
       "      <td>Anne</td>\n",
       "      <td>Raps</td>\n",
       "    </tr>\n",
       "    <tr>\n",
       "      <th>7</th>\n",
       "      <td>4\\/15\\/75</td>\n",
       "      <td>Alice</td>\n",
       "      <td>Muller</td>\n",
       "    </tr>\n",
       "    <tr>\n",
       "      <th>8</th>\n",
       "      <td>5\\/3\\/67</td>\n",
       "      <td>Robert</td>\n",
       "      <td>Hernandez</td>\n",
       "    </tr>\n",
       "    <tr>\n",
       "      <th>9</th>\n",
       "      <td>8\\/4\\/84</td>\n",
       "      <td>Steve</td>\n",
       "      <td>Smith</td>\n",
       "    </tr>\n",
       "    <tr>\n",
       "      <th>10</th>\n",
       "      <td>9\\/13\\/91</td>\n",
       "      <td>Anne</td>\n",
       "      <td>Raps</td>\n",
       "    </tr>\n",
       "    <tr>\n",
       "      <th>11</th>\n",
       "      <td>4\\/15\\/75</td>\n",
       "      <td>Alice</td>\n",
       "      <td>Muller</td>\n",
       "    </tr>\n",
       "    <tr>\n",
       "      <th>12</th>\n",
       "      <td>5\\/3\\/67</td>\n",
       "      <td>Robert</td>\n",
       "      <td>Hernandez</td>\n",
       "    </tr>\n",
       "    <tr>\n",
       "      <th>13</th>\n",
       "      <td>8\\/4\\/84</td>\n",
       "      <td>Steve</td>\n",
       "      <td>Smith</td>\n",
       "    </tr>\n",
       "    <tr>\n",
       "      <th>14</th>\n",
       "      <td>9\\/13\\/91</td>\n",
       "      <td>Anne</td>\n",
       "      <td>Raps</td>\n",
       "    </tr>\n",
       "    <tr>\n",
       "      <th>15</th>\n",
       "      <td>4\\/15\\/75</td>\n",
       "      <td>Alice</td>\n",
       "      <td>Muller</td>\n",
       "    </tr>\n",
       "  </tbody>\n",
       "</table>\n",
       "</div>"
      ],
      "text/plain": [
       "     birthday first_name  last_name\n",
       "0    5\\/3\\/67     Robert  Hernandez\n",
       "1    8\\/4\\/84      Steve      Smith\n",
       "2   9\\/13\\/91       Anne       Raps\n",
       "3   4\\/15\\/75      Alice     Muller\n",
       "4    5\\/3\\/67     Robert  Hernandez\n",
       "5    8\\/4\\/84      Steve      Smith\n",
       "6   9\\/13\\/91       Anne       Raps\n",
       "7   4\\/15\\/75      Alice     Muller\n",
       "8    5\\/3\\/67     Robert  Hernandez\n",
       "9    8\\/4\\/84      Steve      Smith\n",
       "10  9\\/13\\/91       Anne       Raps\n",
       "11  4\\/15\\/75      Alice     Muller\n",
       "12   5\\/3\\/67     Robert  Hernandez\n",
       "13   8\\/4\\/84      Steve      Smith\n",
       "14  9\\/13\\/91       Anne       Raps\n",
       "15  4\\/15\\/75      Alice     Muller"
      ]
     },
     "execution_count": 47,
     "metadata": {},
     "output_type": "execute_result"
    }
   ],
   "source": [
    "#Your code here...\n",
    "file1 = pd.read_json('../../data/data1.json')\n",
    "file2 = pd.read_json('../../data/data2.json')\n",
    "file2 = pd.read_json('../../data/data2.json')\n",
    "file3 = pd.read_json('../../data/data3.json') # add orient=columns\n",
    "file4 = pd.read_json('../../data/data4.json', orient='split')\n",
    "combined = pd.concat([file1, file2.T, file3, file4], ignore_index=True)\n",
    "combined"
   ]
  },
  {
   "cell_type": "markdown",
   "metadata": {},
   "source": [
    "## Exercise 2: \n",
    "In the data file, there is a webserver file called `hackers-access.httpd`.  For this exercise, you will use this file to answer the following questions:\n",
    "1.  Which browsers are the top 10 most used browsers in this data?\n",
    "2.  Which are the top 10 most used operating systems?\n",
    "\n",
    "In order to accomplish this task, do the following:\n",
    "1.  Write a function which takes a User Agent string as an argument and returns the relevant data.  HINT:  You might want to use python's `user_agents` module, the documentation for which is available here: (https://pypi.python.org/pypi/user-agents)\n",
    "2.  Next, apply this function to the column which contains the user agent string.\n",
    "3.  Store this series as a new column in the dataframe\n",
    "4.  Count the occurances of each value in the new columns"
   ]
  },
  {
   "cell_type": "code",
   "execution_count": 48,
   "metadata": {},
   "outputs": [
    {
     "data": {
      "text/plain": [
       " Windows 7               2041\n",
       " Windows Vista            500\n",
       " Windows XP               423\n",
       " Windows 8.1              221\n",
       " Linux                    125\n",
       " Mac OS X 10.10.1          66\n",
       " Chrome OS 6310.68.0       60\n",
       " Mac OS X 10.8.4           12\n",
       " Ubuntu                     6\n",
       " Mac OS X 10.10.0           2\n",
       "Name: OS, dtype: int64"
      ]
     },
     "execution_count": 48,
     "metadata": {},
     "output_type": "execute_result"
    }
   ],
   "source": [
    "import apache_log_parser\n",
    "from user_agents import parse\n",
    "\n",
    "\n",
    "def parse_ua(line):\n",
    "    parsed_data = parse(line)\n",
    "    return str(parsed_data).split('/')[1]\n",
    "\n",
    "def parse_ua_2(line):\n",
    "    parsed_data = parse(line)\n",
    "    return str(parsed_data).split('/')[2]\n",
    "\n",
    "#Read in the log file\n",
    "line_parser = apache_log_parser.make_parser(\"%h %l %u %t \\\"%r\\\" %>s %b \\\"%{Referer}i\\\" \\\"%{User-agent}i\\\"\")\n",
    "\n",
    "server_log = open(\"../../data/hackers-access.httpd\", \"r\")\n",
    "parsed_server_data = []\n",
    "for line in server_log:\n",
    "    data = {}\n",
    "    data = line_parser(line)\n",
    "    parsed_server_data.append( data )\n",
    "\n",
    "server_df = pd.DataFrame(parsed_server_data)\n",
    "server_df['OS'] = server_df['request_header_user_agent'].apply(parse_ua)\n",
    "server_df['Browser'] = server_df['request_header_user_agent'].apply(parse_ua_2)\n",
    "server_df['OS'].value_counts().head(10)"
   ]
  },
  {
   "cell_type": "code",
   "execution_count": null,
   "metadata": {
    "collapsed": true
   },
   "outputs": [],
   "source": [
    "#Apply the functions to the dataframe\n"
   ]
  },
  {
   "cell_type": "code",
   "execution_count": null,
   "metadata": {
    "collapsed": true
   },
   "outputs": [],
   "source": [
    "#Get the top 10 values\n"
   ]
  },
  {
   "cell_type": "markdown",
   "metadata": {},
   "source": [
    "# Exercise 3:\n",
    "Using the `dailybots.csv` film, read the file into a DataFrame and perform the following operations:\n",
    "1.  Filter the DataFrame to include bots from the Government/Politics Industry.\n",
    "2.  Calculate the ratio of hosts to orgs and add this as a column to the DataFrame and output the result\n",
    "3.  Calculate the total number of hosts infected by each BotFam in the Government/Politics Industry.  You should use the `groupby()` function which is documented here: (http://pandas.pydata.org/pandas-docs/stable/groupby.html)\n"
   ]
  },
  {
   "cell_type": "code",
   "execution_count": 60,
   "metadata": {},
   "outputs": [
    {
     "data": {
      "text/plain": [
       "botfam\n",
       "Bedep          89\n",
       "ConfickerAB    90\n",
       "Necurs         87\n",
       "Olmasco        11\n",
       "PushDo         85\n",
       "Ramnit         90\n",
       "Sality         90\n",
       "Zeus           90\n",
       "Zusy           72\n",
       "zeroaccess     89\n",
       "dtype: int64"
      ]
     },
     "execution_count": 60,
     "metadata": {},
     "output_type": "execute_result"
    }
   ],
   "source": [
    "#Your code here...\n",
    "bots = pd.read_csv('../../data/dailybots.csv')\n",
    "gov_bots = bots[['botfam', 'hosts']][bots['industry'] == 'Government/Politics']\n",
    "gov_bots.groupby(['botfam']).size()"
   ]
  },
  {
   "cell_type": "code",
   "execution_count": null,
   "metadata": {
    "collapsed": true
   },
   "outputs": [],
   "source": []
  }
 ],
 "metadata": {
  "kernelspec": {
   "display_name": "Python [conda root]",
   "language": "python",
   "name": "conda-root-py"
  },
  "language_info": {
   "codemirror_mode": {
    "name": "ipython",
    "version": 3
   },
   "file_extension": ".py",
   "mimetype": "text/x-python",
   "name": "python",
   "nbconvert_exporter": "python",
   "pygments_lexer": "ipython3",
   "version": "3.5.3"
  }
 },
 "nbformat": 4,
 "nbformat_minor": 2
}

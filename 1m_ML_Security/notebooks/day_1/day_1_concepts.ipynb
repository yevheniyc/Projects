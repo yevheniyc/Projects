{
 "cells": [
  {
   "cell_type": "code",
   "execution_count": 12,
   "metadata": {
    "collapsed": true
   },
   "outputs": [],
   "source": [
    "import pandas as pd\n",
    "import numpy as np"
   ]
  },
  {
   "cell_type": "markdown",
   "metadata": {},
   "source": [
    "## Series"
   ]
  },
  {
   "cell_type": "code",
   "execution_count": 13,
   "metadata": {},
   "outputs": [
    {
     "name": "stdout",
     "output_type": "stream",
     "text": [
      "1    b\n",
      "2    c\n",
      "dtype: object\n"
     ]
    }
   ],
   "source": [
    "series1 = pd.Series(['a', 'b', 'c'])\n",
    "print(series1[1:3])"
   ]
  },
  {
   "cell_type": "code",
   "execution_count": 14,
   "metadata": {},
   "outputs": [
    {
     "name": "stdout",
     "output_type": "stream",
     "text": [
      "firstname    Charles\n",
      "lastname       Givre\n",
      "dtype: object\n",
      "Charles\n"
     ]
    }
   ],
   "source": [
    "# reset_index\n",
    "\n",
    "record = pd.Series(\n",
    "    {'firstname': 'Charles',\n",
    "    'lastname': 'Givre',\n",
    "    'middle': 'classfied'}\n",
    ")\n",
    "\n",
    "print(record[['firstname', 'lastname']])\n",
    "print(record[0])"
   ]
  },
  {
   "cell_type": "code",
   "execution_count": 18,
   "metadata": {},
   "outputs": [
    {
     "data": {
      "text/plain": [
       "0    13\n",
       "1    32\n",
       "2     5\n",
       "3    50\n",
       "4     7\n",
       "dtype: int64"
      ]
     },
     "execution_count": 18,
     "metadata": {},
     "output_type": "execute_result"
    }
   ],
   "source": [
    "randomNumbers = pd.Series(\n",
    "    np.random.randint(1, 100, 50)\n",
    ")\n",
    "\n",
    "randomNumbers.head()\n",
    "# randomNumbers.tail(7)"
   ]
  },
  {
   "cell_type": "code",
   "execution_count": 21,
   "metadata": {},
   "outputs": [
    {
     "data": {
      "text/plain": [
       "2     5\n",
       "4     7\n",
       "6     9\n",
       "46    7\n",
       "49    4\n",
       "dtype: int64"
      ]
     },
     "execution_count": 21,
     "metadata": {},
     "output_type": "execute_result"
    }
   ],
   "source": [
    "# Filtering Data in a Series\n",
    "# randomNumbers < 10 # True or False for all data\n",
    "randomNumbers[randomNumbers < 10]"
   ]
  },
  {
   "cell_type": "code",
   "execution_count": 22,
   "metadata": {},
   "outputs": [
    {
     "data": {
      "text/plain": [
       "firstname     True\n",
       "lastname     False\n",
       "middle       False\n",
       "dtype: bool"
      ]
     },
     "execution_count": 22,
     "metadata": {},
     "output_type": "execute_result"
    }
   ],
   "source": [
    "record.str.contains('Cha')"
   ]
  },
  {
   "cell_type": "code",
   "execution_count": 23,
   "metadata": {},
   "outputs": [
    {
     "data": {
      "text/plain": [
       "firstname    Charles\n",
       "dtype: object"
      ]
     },
     "execution_count": 23,
     "metadata": {},
     "output_type": "execute_result"
    }
   ],
   "source": [
    "record[record.str.contains('Cha')]"
   ]
  },
  {
   "cell_type": "code",
   "execution_count": 25,
   "metadata": {
    "collapsed": true
   },
   "outputs": [],
   "source": [
    "# Record.str.contains... functions\n",
    "# contains, count, extract, find, findall, len"
   ]
  },
  {
   "cell_type": "code",
   "execution_count": 26,
   "metadata": {
    "collapsed": true
   },
   "outputs": [],
   "source": [
    "# add series"
   ]
  },
  {
   "cell_type": "code",
   "execution_count": 27,
   "metadata": {},
   "outputs": [
    {
     "ename": "NameError",
     "evalue": "name 'odds' is not defined",
     "output_type": "error",
     "traceback": [
      "\u001b[0;31m---------------------------------------------------------------------------\u001b[0m",
      "\u001b[0;31mNameError\u001b[0m                                 Traceback (most recent call last)",
      "\u001b[0;32m<ipython-input-27-1ce0f117fac0>\u001b[0m in \u001b[0;36m<module>\u001b[0;34m()\u001b[0m\n\u001b[1;32m      2\u001b[0m     \u001b[0;32mreturn\u001b[0m \u001b[0mn\u001b[0m \u001b[0;34m+\u001b[0m \u001b[0;36m2\u001b[0m\u001b[0;34m\u001b[0m\u001b[0m\n\u001b[1;32m      3\u001b[0m  \u001b[0;31m# iterates through the entire series and apply addTwo function\u001b[0m\u001b[0;34m\u001b[0m\u001b[0;34m\u001b[0m\u001b[0m\n\u001b[0;32m----> 4\u001b[0;31m \u001b[0modds\u001b[0m\u001b[0;34m.\u001b[0m\u001b[0mapply\u001b[0m\u001b[0;34m(\u001b[0m\u001b[0maddTwo\u001b[0m\u001b[0;34m)\u001b[0m\u001b[0;34m\u001b[0m\u001b[0m\n\u001b[0m",
      "\u001b[0;31mNameError\u001b[0m: name 'odds' is not defined"
     ]
    }
   ],
   "source": [
    "def addTwo(n):\n",
    "    return n + 2\n",
    " # iterates through the entire series and apply addTwo function\n",
    "odds.apply(addTwo)"
   ]
  },
  {
   "cell_type": "code",
   "execution_count": 28,
   "metadata": {
    "collapsed": true
   },
   "outputs": [],
   "source": [
    "small_rands = randomNumbers[randomNumbers < 10]"
   ]
  },
  {
   "cell_type": "code",
   "execution_count": 29,
   "metadata": {
    "collapsed": true
   },
   "outputs": [],
   "source": [
    "def addTwo(n):\n",
    "    return n + 2"
   ]
  },
  {
   "cell_type": "code",
   "execution_count": 30,
   "metadata": {},
   "outputs": [
    {
     "data": {
      "text/plain": [
       "2      7\n",
       "4      9\n",
       "6     11\n",
       "46     9\n",
       "49     6\n",
       "dtype: int64"
      ]
     },
     "execution_count": 30,
     "metadata": {},
     "output_type": "execute_result"
    }
   ],
   "source": [
    "small_rands.apply(addTwo)"
   ]
  },
  {
   "cell_type": "code",
   "execution_count": 31,
   "metadata": {},
   "outputs": [
    {
     "data": {
      "text/plain": [
       "2      6\n",
       "4      8\n",
       "6     10\n",
       "46     8\n",
       "49     5\n",
       "dtype: int64"
      ]
     },
     "execution_count": 31,
     "metadata": {},
     "output_type": "execute_result"
    }
   ],
   "source": [
    "small_rands.apply(lambda x: x + 1)"
   ]
  },
  {
   "cell_type": "code",
   "execution_count": 32,
   "metadata": {
    "collapsed": true
   },
   "outputs": [],
   "source": [
    "# Series.dropna() # remove missing values\n",
    "# Series.fillna(value=\"<something>\") # replaces missing values with something"
   ]
  },
  {
   "cell_type": "markdown",
   "metadata": {},
   "source": [
    "\n",
    "---\n",
    "\n",
    "## DataFrame"
   ]
  },
  {
   "cell_type": "code",
   "execution_count": null,
   "metadata": {
    "collapsed": true
   },
   "outputs": [],
   "source": [
    "data = pd.DataFrame(<data>, <index>, <column_names>)\n",
    "\n",
    "# 1. Pass two dimentional data -> Series\n",
    "# 2. Usually, reading from outside sources\n",
    "data = pd.read_csv(<file>)\n",
    "data = pd.read_excel('file.xls')\n",
    "data = pd.read_json(<file>/<url>)\n",
    "data = pd.read_sql(<query>, <connection_obj>)\n",
    "data = pd.read_html(<source>)\n",
    "logdf = pd.read_table('../data/mysql.log', names=['raw'])\n",
    "# refer to a column:\n",
    "logdf['raw'].str.extract('(?P<data>]d{6}\\s\\d{2}:\\d{2}:\\d{2}:\\d{2})...', expand=False)\n"
   ]
  },
  {
   "cell_type": "code",
   "execution_count": null,
   "metadata": {
    "collapsed": true
   },
   "outputs": [],
   "source": [
    "# Web Server Logs - complicated to parse\n",
    "import apache_log_parser\n",
    "line_parser = apache_log_parser.make_parser(\"%h %l %u %t \\'%r\\' %>s %b \\'%{Referer}i\\' \\'%{User-agent}i\\' \")\n",
    "# pandas are moving to arrow data structure\n",
    "server_log = open(\"../data/hackers-access.httpd\", \"r\")\n",
    "parsed_server_data = []\n",
    "# loop and move into a dataframe"
   ]
  },
  {
   "cell_type": "code",
   "execution_count": null,
   "metadata": {
    "collapsed": true
   },
   "outputs": [],
   "source": [
    "# Manipulating datafarme\n",
    "df=data['column'] # returns series\n",
    "df['ip'].value_counts().head() # counts unique IPs!\n",
    "# return the following columns\n",
    "df = data[['column1', 'column2', 'column3']] # returns a DataFrame\n",
    "\n",
    "# extract columns and filter\n",
    "df[['col1', 'col2']][col3 > 5] # remove columns -> filter(any column)\n",
    "\n",
    "# pull out individual rows\n",
    "data.loc[<index>]\n",
    "data.loc[<list of indexes>]\n",
    "data.sample[<n>] # return a random sample of a dataset\n",
    "\n",
    "# Apply to DataFrame\n",
    "data.apply(<function>)\n",
    "\n",
    "# - function will receive Series == each row\n",
    "# - function will return a new row => allows us to add new columns\n"
   ]
  },
  {
   "cell_type": "code",
   "execution_count": null,
   "metadata": {
    "collapsed": true
   },
   "outputs": [],
   "source": [
    "# example\n",
    "df = pd.read_csv('data/dailybots.csv')\n",
    "# df['orgs'] + 2 => will add 2 to the entire column\n",
    "df['orgs2'] = df['orgs'] + 2 # this will create a new column"
   ]
  },
  {
   "cell_type": "code",
   "execution_count": null,
   "metadata": {
    "collapsed": true
   },
   "outputs": [],
   "source": [
    "# Transpose\n",
    "data.T => Reshaping data\n",
    "\n",
    "# aggregation\n",
    "# 1. the sum of columns\n",
    "data.sum(axis=0)\n",
    "# 2. the sum of the rows\n",
    "data.sum(axis=1) # from operating on a column to row\n",
    "\n",
    "# drop\n",
    "# 1. inplace => change the current dataframe\n",
    "# 2. errors => specify an error\n",
    "data.drop(labels, axis=0, level=None, inplace=False, errors='raise')"
   ]
  },
  {
   "cell_type": "code",
   "execution_count": null,
   "metadata": {
    "collapsed": true
   },
   "outputs": [],
   "source": [
    "# Merging datasets\n",
    "\n",
    "# Union\n",
    "Series 1 + Series 2\n",
    "combinedSeries = pd.concat([series1, series2], ...)\n",
    "\n",
    "# Join\n",
    "# 1. Inner Join -> common things between sets\n",
    "# 2. Outer Join -> \n",
    "# 3. Left Join -> all the data in set A, A and B, but not B\n",
    "# 4. Right Join -> same\n",
    "# 5. pd.merge(leftData, rightData, \n",
    "#             how=\"<join type / inner,lerft,right,outer>\",\n",
    "#               on=\"list of fields\")"
   ]
  },
  {
   "cell_type": "code",
   "execution_count": null,
   "metadata": {
    "collapsed": true
   },
   "outputs": [],
   "source": [
    "# Grouping and Aggregating data\n",
    "df_grouped = df.groupby(\n",
    "    ['Protocol', 'Source', 'Destination']\n",
    ")\n",
    "print(df_grouped.size())\n",
    "\n",
    "stats_packets = df_grouped['Length'].agg({'No Packets': len, 'Volume': sum,\n",
    "                                         'SD': lambda x: np.std(x, ddoff=1...)})"
   ]
  }
 ],
 "metadata": {
  "kernelspec": {
   "display_name": "Python [default]",
   "language": "python",
   "name": "python3"
  },
  "language_info": {
   "codemirror_mode": {
    "name": "ipython",
    "version": 3
   },
   "file_extension": ".py",
   "mimetype": "text/x-python",
   "name": "python",
   "nbconvert_exporter": "python",
   "pygments_lexer": "ipython3",
   "version": "3.5.3"
  }
 },
 "nbformat": 4,
 "nbformat_minor": 2
}

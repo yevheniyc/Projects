{
 "cells": [
  {
   "cell_type": "markdown",
   "metadata": {
    "collapsed": true
   },
   "source": [
    "## Series"
   ]
  },
  {
   "cell_type": "code",
   "execution_count": 5,
   "metadata": {
    "collapsed": true
   },
   "outputs": [],
   "source": [
    "import pandas as pd\n",
    "import numpy as np"
   ]
  },
  {
   "cell_type": "code",
   "execution_count": 6,
   "metadata": {},
   "outputs": [
    {
     "name": "stdout",
     "output_type": "stream",
     "text": [
      "1    b\n",
      "2    c\n",
      "dtype: object\n"
     ]
    }
   ],
   "source": [
    "series1 = pd.Series(['a', 'b', 'c'])\n",
    "print(series1[1:3])"
   ]
  },
  {
   "cell_type": "code",
   "execution_count": 12,
   "metadata": {},
   "outputs": [
    {
     "data": {
      "text/plain": [
       "firstname    Charles\n",
       "dtype: object"
      ]
     },
     "execution_count": 12,
     "metadata": {},
     "output_type": "execute_result"
    }
   ],
   "source": [
    "# Viewing Specific Keys\n",
    "record = pd.Series({\n",
    "    'firstname': 'Charles',\n",
    "    'lastname': 'Givre',\n",
    "    'middle': 'classfied'\n",
    "})\n",
    "\n",
    "record[['firstname', 'lastname']]\n",
    "# firstname    Charles\n",
    "# lastname       Givre\n",
    "\n",
    "# String manipulations: Show True/False for each record\n",
    "record.str.contains('Cha')\n",
    "# firstname     True\n",
    "# lastname     False\n",
    "# middle       False\n",
    "\n",
    "# Filter based on the returned True/False\n",
    "record[record.str.contains('Cha')]\n",
    "\n",
    "# Other string manipulations\n",
    "# Record.str.contains... functions\n",
    "# => contains, count, extract, find, findall, len"
   ]
  },
  {
   "cell_type": "code",
   "execution_count": 8,
   "metadata": {},
   "outputs": [
    {
     "data": {
      "text/plain": [
       "0    28\n",
       "1    81\n",
       "2    22\n",
       "3    40\n",
       "4    29\n",
       "5     9\n",
       "6     3\n",
       "7    56\n",
       "8    60\n",
       "9    79\n",
       "dtype: int64"
      ]
     },
     "execution_count": 8,
     "metadata": {},
     "output_type": "execute_result"
    }
   ],
   "source": [
    "# Display head/tail number of records\n",
    "\n",
    "randomNumbers = pd.Series(\n",
    "    np.random.randint(1, 100, 50)\n",
    ")\n",
    "\n",
    "randomNumbers.head(10)\n",
    "# randomNumbers.tail(7)"
   ]
  },
  {
   "cell_type": "code",
   "execution_count": 9,
   "metadata": {},
   "outputs": [
    {
     "data": {
      "text/plain": [
       "5     9\n",
       "6     3\n",
       "18    9\n",
       "22    4\n",
       "32    1\n",
       "33    2\n",
       "40    8\n",
       "42    9\n",
       "dtype: int64"
      ]
     },
     "execution_count": 9,
     "metadata": {},
     "output_type": "execute_result"
    }
   ],
   "source": [
    "# Filtering Data in a Series\n",
    "# 1. Generate True/False values for all values\n",
    "randomNumbers < 10\n",
    "# 2. Filter based on True/False values and only show records\n",
    "randomNumbers[randomNumbers < 10]"
   ]
  },
  {
   "cell_type": "code",
   "execution_count": 17,
   "metadata": {},
   "outputs": [
    {
     "data": {
      "text/plain": [
       "5     9\n",
       "6     3\n",
       "18    9\n",
       "22    4\n",
       "32    1\n",
       "33    2\n",
       "40    8\n",
       "42    9\n",
       "dtype: int64"
      ]
     },
     "execution_count": 17,
     "metadata": {},
     "output_type": "execute_result"
    }
   ],
   "source": [
    "small_rands = randomNumbers[randomNumbers < 10]\n",
    "small_rands"
   ]
  },
  {
   "cell_type": "code",
   "execution_count": 18,
   "metadata": {
    "collapsed": true
   },
   "outputs": [],
   "source": [
    "def addTwo(n):\n",
    "    return n + 2"
   ]
  },
  {
   "cell_type": "code",
   "execution_count": 19,
   "metadata": {},
   "outputs": [
    {
     "data": {
      "text/plain": [
       "5     11\n",
       "6      5\n",
       "18    11\n",
       "22     6\n",
       "32     3\n",
       "33     4\n",
       "40    10\n",
       "42    11\n",
       "dtype: int64"
      ]
     },
     "execution_count": 19,
     "metadata": {},
     "output_type": "execute_result"
    }
   ],
   "source": [
    " # iterates through the entire series and apply addTwo function\n",
    "small_rands.apply(addTwo)"
   ]
  },
  {
   "cell_type": "code",
   "execution_count": 20,
   "metadata": {},
   "outputs": [
    {
     "data": {
      "text/plain": [
       "5     10\n",
       "6      4\n",
       "18    10\n",
       "22     5\n",
       "32     2\n",
       "33     3\n",
       "40     9\n",
       "42    10\n",
       "dtype: int64"
      ]
     },
     "execution_count": 20,
     "metadata": {},
     "output_type": "execute_result"
    }
   ],
   "source": [
    "# Use lambda instead\n",
    "small_rands.apply(lambda x: x + 1)"
   ]
  },
  {
   "cell_type": "code",
   "execution_count": 32,
   "metadata": {
    "collapsed": true
   },
   "outputs": [],
   "source": [
    "# Remove Missing Values:\n",
    "Series.dropna()\n",
    "\n",
    "# Replace missing values with \"something\" value\n",
    "Series.fillna(value=\"<something>\""
   ]
  },
  {
   "cell_type": "markdown",
   "metadata": {},
   "source": [
    "\n",
    "---\n",
    "\n",
    "## DataFrame"
   ]
  },
  {
   "cell_type": "code",
   "execution_count": null,
   "metadata": {
    "collapsed": true
   },
   "outputs": [],
   "source": [
    "data = pd.DataFrame(<data>, <index>, <column_names>)\n",
    "\n",
    "# 1. Pass two dimentional data -> Series\n",
    "# 2. Usually, reading from outside sources\n",
    "data = pd.read_csv(<file>)\n",
    "data = pd.read_excel('file.xls')\n",
    "data = pd.read_json(<file>/<url>)\n",
    "data = pd.read_sql(<query>, <connection_obj>)\n",
    "data = pd.read_html(<source>)\n",
    "logdf = pd.read_table('../data/mysql.log', names=['raw'])\n",
    "# refer to a column:\n",
    "logdf['raw'].str.extract(\n",
    "    '(?P<data>]d{6}\\s\\d{2}:\\d{2}:\\d{2}:\\d{2})...', \n",
    "    expand=False\n",
    ")"
   ]
  },
  {
   "cell_type": "code",
   "execution_count": null,
   "metadata": {
    "collapsed": true
   },
   "outputs": [],
   "source": [
    "# Web Server Logs\n",
    "# 1. Complicated to parse - use apache_log_parser package\n",
    "import apache_log_parser\n",
    "line_parser = apache_log_parser.make_parser(\"%h %l %u %t \\'%r\\' %>s %b \\'%{Referer}i\\' \\'%{User-agent}i\\' \")\n",
    "# pandas are moving to arrow data structure\n",
    "server_log = open(\"../data/hackers-access.httpd\", \"r\")\n",
    "parsed_server_data = []\n",
    "# loop and add to parsed_server_data and move into a dataframe"
   ]
  },
  {
   "cell_type": "code",
   "execution_count": null,
   "metadata": {
    "collapsed": true
   },
   "outputs": [],
   "source": [
    "# Manipulating datafarme\n",
    "df = data['column'] # returns series\n",
    "df['ip'].value_counts().head() # counts unique IPs!\n",
    "# return the following columns\n",
    "df = data[['column1', 'column2', 'column3']] # returns a DataFrame\n",
    "\n",
    "# extract columns and filter\n",
    "# 1. show specified columns\n",
    "# 2. Filter(any column)\n",
    "df[['col1', 'col2']][col3 > 5]\n",
    "\n",
    "# pull out individual rows\n",
    "data.loc[<index>]\n",
    "data.loc[<list of indexes>]\n",
    "data.sample[<n>] # return a random sample of a dataset\n",
    "\n",
    "# Apply to DataFrame\n",
    "data.apply(<function>)\n",
    "\n",
    "# - function will receive Series == each row\n",
    "# - function will return a new row => allows us to add new columns\n"
   ]
  },
  {
   "cell_type": "code",
   "execution_count": null,
   "metadata": {
    "collapsed": true
   },
   "outputs": [],
   "source": [
    "# Apply a function to a column and then create a new column\n",
    "df = pd.read_csv('data/dailybots.csv')\n",
    "# df['orgs'] + 2 => will add 2 to the entire column\n",
    "df['orgs2'] = df['orgs'] + 2 # this will create a new column"
   ]
  },
  {
   "cell_type": "code",
   "execution_count": null,
   "metadata": {
    "collapsed": true
   },
   "outputs": [],
   "source": [
    "# Transpose\n",
    "data.T => Reshaping data\n",
    "\n",
    "# aggregation\n",
    "# 1. the sum of columns\n",
    "data.sum(axis=0)\n",
    "# 2. the sum of the rows\n",
    "data.sum(axis=1) # from operating on a column to row\n",
    "\n",
    "# drop\n",
    "# 1. inplace => change the current dataframe\n",
    "# 2. errors => specify an error\n",
    "data.drop(labels, axis=0, level=None, inplace=False, errors='raise')"
   ]
  },
  {
   "cell_type": "code",
   "execution_count": null,
   "metadata": {
    "collapsed": true
   },
   "outputs": [],
   "source": [
    "# Merging datasets\n",
    "\n",
    "# Union\n",
    "Series 1 + Series 2\n",
    "combinedSeries = pd.concat([series1, series2], ...)\n",
    "\n",
    "# Join\n",
    "# 1. Inner Join -> common things between sets\n",
    "# 2. Outer Join -> \n",
    "# 3. Left Join -> all the data in set A, A and B, but not B\n",
    "# 4. Right Join -> same\n",
    "pd.merge(leftData, rightData, \n",
    "         how=\"<join type / inner,lerft,right,outer>\",\n",
    "         on=\"list of fields\")"
   ]
  },
  {
   "cell_type": "code",
   "execution_count": null,
   "metadata": {
    "collapsed": true
   },
   "outputs": [],
   "source": [
    "# Grouping and Aggregating data\n",
    "df_grouped = df.groupby(\n",
    "    ['Protocol', 'Source', 'Destination']\n",
    ")\n",
    "print(df_grouped.size())\n",
    "\n",
    "stats_packets = df_grouped['Length'].agg({'No Packets': len, 'Volume': sum,\n",
    "                                         'SD': lambda x: np.std(x, ddoff=1...)})"
   ]
  }
 ],
 "metadata": {
  "kernelspec": {
   "display_name": "Python [default]",
   "language": "python",
   "name": "python3"
  },
  "language_info": {
   "codemirror_mode": {
    "name": "ipython",
    "version": 3
   },
   "file_extension": ".py",
   "mimetype": "text/x-python",
   "name": "python",
   "nbconvert_exporter": "python",
   "pygments_lexer": "ipython3",
   "version": "3.5.3"
  }
 },
 "nbformat": 4,
 "nbformat_minor": 2
}

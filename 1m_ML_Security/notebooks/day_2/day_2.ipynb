{
 "cells": [
  {
   "cell_type": "code",
   "execution_count": null,
   "metadata": {
    "collapsed": true
   },
   "outputs": [],
   "source": [
    "series.descibe() # most often, etc.\n",
    "# devides into sections and how many values in each bin\n",
    "# all counts on the same scale (0-1)\n",
    "# value_count ignores null values\n",
    "series.value_counts(bin=5, normaliz=True)\n",
    "# find uniques I think\n",
    "series.unique()\n",
    "# produce histogram - data distribution 0-10, 10-20\n",
    "# ML - assumes normal destribution\n",
    "# bining will change bucket sizes\n",
    "series.hist(bins=40)\n",
    "# series can be plotted (DataFrames)\n",
    "series.plot() # scatter plot\n",
    "# maximim, median, minimum, 3rd quartile (top box), \n",
    "#1st quartile (bottom box)\n",
    "series.plot(kind='box')"
   ]
  },
  {
   "cell_type": "code",
   "execution_count": 1,
   "metadata": {
    "collapsed": true
   },
   "outputs": [],
   "source": [
    "# Correlations between Datasets\n",
    "# -  (correlated) -1 > r < 1 (correlated) \n",
    "#    - correlated models can be useless for ML\n",
    "# - 0 -> no correlation\n",
    "series1.corr(series2)"
   ]
  },
  {
   "cell_type": "markdown",
   "metadata": {},
   "source": [
    "--- \n",
    "\n",
    "### Exploring Data Through Visualizations"
   ]
  },
  {
   "cell_type": "code",
   "execution_count": null,
   "metadata": {
    "collapsed": true
   },
   "outputs": [],
   "source": []
  },
  {
   "cell_type": "code",
   "execution_count": 2,
   "metadata": {
    "collapsed": true
   },
   "outputs": [],
   "source": [
    "# colorbrewer2 - colorblind safe\n",
    "# Edwart Turt - visualization\n",
    "\n",
    "# Matplotlib\n",
    "# Pandas/Pyplot\n",
    "# Seaborn\n",
    "# Altair\n",
    "# YelloBrick"
   ]
  },
  {
   "cell_type": "code",
   "execution_count": 3,
   "metadata": {},
   "outputs": [
    {
     "name": "stderr",
     "output_type": "stream",
     "text": [
      "ERROR:root:Line magic function `%matplot` not found.\n"
     ]
    }
   ],
   "source": [
    "import pandas as pd\n",
    "import matplotlib.pyplot as plt\n",
    "import numpy as np\n",
    "%matplot inline"
   ]
  },
  {
   "cell_type": "code",
   "execution_count": null,
   "metadata": {
    "collapsed": true
   },
   "outputs": [],
   "source": [
    "# go through the lectures"
   ]
  },
  {
   "cell_type": "code",
   "execution_count": null,
   "metadata": {
    "collapsed": true
   },
   "outputs": [],
   "source": [
    "# Default maps are ugly\n",
    "plt.style.use('dark_background') # ugly\n",
    "plt.style.use('ggplot')\n",
    "barchart = data.plot(kind=\"bar\")"
   ]
  },
  {
   "cell_type": "code",
   "execution_count": null,
   "metadata": {
    "collapsed": true
   },
   "outputs": [],
   "source": [
    "# advanced visualizations\n",
    "import seaborn as sns\n",
    "ax = sns.distplot(<data>)\n",
    "g = sns.pairplot(<data>, hue=\"<target>\") # compare catabories\n",
    "# regression analysis\n",
    "ax = sns.regplot(x=\"total_bill\", y=\"tip\", hue=\"smoker\", data=tips)\n",
    "# compare combinations of different variables\n",
    "g = sns.FacetGrid(tips, col=\"time\", row=\"smoker\")\n",
    "g = g.map(plt.hist, \"total_bill\")"
   ]
  },
  {
   "cell_type": "code",
   "execution_count": null,
   "metadata": {
    "collapsed": true
   },
   "outputs": [],
   "source": [
    "# Interactive Visualizations\n",
    "# Either money or D3.js\n",
    "# Bokeh\n",
    "from bokeh.plotting import output_notebook\n",
    "output_notebook()"
   ]
  },
  {
   "cell_type": "code",
   "execution_count": null,
   "metadata": {
    "collapsed": true
   },
   "outputs": [],
   "source": [
    "# Method chaining\n"
   ]
  }
 ],
 "metadata": {
  "kernelspec": {
   "display_name": "Python [default]",
   "language": "python",
   "name": "python3"
  },
  "language_info": {
   "codemirror_mode": {
    "name": "ipython",
    "version": 3
   },
   "file_extension": ".py",
   "mimetype": "text/x-python",
   "name": "python",
   "nbconvert_exporter": "python",
   "pygments_lexer": "ipython3",
   "version": "3.5.3"
  }
 },
 "nbformat": 4,
 "nbformat_minor": 2
}

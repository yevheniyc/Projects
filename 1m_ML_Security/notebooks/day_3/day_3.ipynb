{
 "cells": [
  {
   "cell_type": "markdown",
   "metadata": {},
   "source": [
    "Types of ML:\n",
    "- Unsupervised - unlabeled datasets\n",
    "- Supervized - labeled datasets\n",
    "\n",
    "Features - mathamatically represent data\n",
    "- DGA - domain generating algorithm\n",
    "- Feature engineering\n",
    "- protocol, subdomain, domain, top-level domain - http://www.google.com/\n",
    "- python-whois, dnspytho, tldextract(extract URL components), ipaddress\n",
    "- C-NAME, autonomous registration - used for identifying melicious websites\n",
    "\n",
    "\n",
    "Feature Selection:\n",
    "- BlackList Features\n",
    "- Lexical Features: length of URL/domain, counts of digits, entropy of domain, position of the first digits, bag-of-words for tld/domain/path parts of the URL\n",
    "- Host-based Features: time delta between today-creation date, is it a raw IP address\n",
    "- Content-based Features\n",
    "\n",
    "Feature Preprocessing:\n",
    "- cleaning\n",
    "- normalization\n",
    "- one-hot encoding (encoding categorical features)\n",
    "- embedding (word2vec)\n",
    "- binarizing (needed for Deep Learning multi-class target vector encoding)\n",
    "- encoding strings as int\n",
    "- dimensionality reduction (PCA)\n",
    "- Augmentation (tild/zoom images)\n",
    "- feature selection based on classifier\n",
    "- varience threshold"
   ]
  },
  {
   "cell_type": "code",
   "execution_count": 2,
   "metadata": {},
   "outputs": [
    {
     "ename": "NameError",
     "evalue": "name 'df' is not defined",
     "output_type": "error",
     "traceback": [
      "\u001b[0;31m---------------------------------------------------------------------------\u001b[0m",
      "\u001b[0;31mNameError\u001b[0m                                 Traceback (most recent call last)",
      "\u001b[0;32m<ipython-input-2-a20a39cddc59>\u001b[0m in \u001b[0;36m<module>\u001b[0;34m()\u001b[0m\n\u001b[1;32m      2\u001b[0m \u001b[0;34m\u001b[0m\u001b[0m\n\u001b[1;32m      3\u001b[0m \u001b[0;31m# using the most_frequent value\u001b[0m\u001b[0;34m\u001b[0m\u001b[0;34m\u001b[0m\u001b[0m\n\u001b[0;32m----> 4\u001b[0;31m \u001b[0mdf\u001b[0m\u001b[0;34m.\u001b[0m\u001b[0msrc_bytes\u001b[0m \u001b[0;34m=\u001b[0m \u001b[0mdf\u001b[0m\u001b[0;34m.\u001b[0m\u001b[0msrc_bytes\u001b[0m\u001b[0;34m.\u001b[0m\u001b[0mfillna\u001b[0m\u001b[0;34m\u001b[0m\u001b[0m\n\u001b[0m\u001b[1;32m      5\u001b[0m \u001b[0;34m(\u001b[0m\u001b[0mdf\u001b[0m\u001b[0;34m.\u001b[0m\u001b[0msrc_bytes\u001b[0m\u001b[0;34m.\u001b[0m\u001b[0mvalue_counts\u001b[0m\u001b[0;34m(\u001b[0m\u001b[0;34m)\u001b[0m\u001b[0;34m.\u001b[0m\u001b[0mindex\u001b[0m\u001b[0;34m[\u001b[0m\u001b[0;36m0\u001b[0m\u001b[0;34m]\u001b[0m\u001b[0;34m)\u001b[0m\u001b[0;34m\u001b[0m\u001b[0m\n\u001b[1;32m      6\u001b[0m \u001b[0;34m\u001b[0m\u001b[0m\n",
      "\u001b[0;31mNameError\u001b[0m: name 'df' is not defined"
     ]
    }
   ],
   "source": [
    "# Imputing Missing Values - use mean to replace missing values\n",
    "\n",
    "# using the most_frequent value\n",
    "df.src_bytes = df.src_bytes.fillna\n",
    "(df.src_bytes.value_counts().index[0])\n",
    "\n",
    "# using the mean value\n",
    "df.dst_types - df.dst_bytes.fillna(df.dst_bytes.mean())\n",
    "\n",
    "\n",
    "# One Hot Encoding\n",
    "pd.get_dummies(['Green', 'Yellow', 'Red'])\n",
    "\n",
    "\n",
    "# Selecting Features\n",
    "# - the goal is to use a fewer features as possible\n",
    "# - visualize features -> use YellowBrick module\n",
    "# - y - target(what we are predicting); X - metrix which are features"
   ]
  },
  {
   "cell_type": "code",
   "execution_count": null,
   "metadata": {
    "collapsed": true
   },
   "outputs": [],
   "source": []
  }
 ],
 "metadata": {
  "kernelspec": {
   "display_name": "Python [default]",
   "language": "python",
   "name": "python3"
  },
  "language_info": {
   "codemirror_mode": {
    "name": "ipython",
    "version": 3
   },
   "file_extension": ".py",
   "mimetype": "text/x-python",
   "name": "python",
   "nbconvert_exporter": "python",
   "pygments_lexer": "ipython3",
   "version": "3.5.3"
  }
 },
 "nbformat": 4,
 "nbformat_minor": 2
}

{
 "cells": [
  {
   "cell_type": "markdown",
   "metadata": {},
   "source": [
    "# Exercise 05: Named entity resolution"
   ]
  },
  {
   "cell_type": "markdown",
   "metadata": {},
   "source": [
    "Doesn't work on Mac or Windows. Usually works well on Ubuntu\n",
    "\n",
    "Often you want to identify the proper noun phrases within a text, for which we use *named-entity resolution* (NER). The following is based on [polyglot](http://polyglot.readthedocs.io/en/latest/NamedEntityRecognition.html), which may not work as well on MacOSX and Windows. If you've installed on a Linux system, then try:"
   ]
  },
  {
   "cell_type": "code",
   "execution_count": null,
   "metadata": {
    "collapsed": true
   },
   "outputs": [],
   "source": [
    "sent = \"He'd been trained by the best, McCoy Pauley and Bobby Quine, legends in Memphis, and now Chiba City as well.\""
   ]
  },
  {
   "cell_type": "code",
   "execution_count": null,
   "metadata": {
    "collapsed": false
   },
   "outputs": [],
   "source": [
    "from polyglot.text import Text\n",
    "\n",
    "text = Text(sent)\n",
    "\n",
    "for entity in Text(sent).entities:\n",
    "  print(entity.tag, entity)"
   ]
  },
  {
   "cell_type": "markdown",
   "metadata": {
    "collapsed": true
   },
   "source": [
    "Though we didn't catch the issues mentioned above in time to message out to the course, there's another library called [spaCy](https://spacy.io/docs/usage/entity-recognition) which also provides great NER capabilities. If you had problems installing or running `polyglot`, then install `spaCy` and try the following:"
   ]
  },
  {
   "cell_type": "code",
   "execution_count": null,
   "metadata": {
    "collapsed": false
   },
   "outputs": [],
   "source": [
    "import spacy\n",
    "nlp = spacy.load('en')"
   ]
  },
  {
   "cell_type": "code",
   "execution_count": null,
   "metadata": {
    "collapsed": false
   },
   "outputs": [],
   "source": [
    "doc = nlp(sent)\n",
    "\n",
    "for entity in doc.ents:\n",
    "  print(entity.label_, entity.text)"
   ]
  },
  {
   "cell_type": "markdown",
   "metadata": {},
   "source": [
    "Clearly these entities will enrich the key phrases extracted from a text."
   ]
  }
 ],
 "metadata": {
  "kernelspec": {
   "display_name": "Python 3",
   "language": "python",
   "name": "python3"
  },
  "language_info": {
   "codemirror_mode": {
    "name": "ipython",
    "version": 3
   },
   "file_extension": ".py",
   "mimetype": "text/x-python",
   "name": "python",
   "nbconvert_exporter": "python",
   "pygments_lexer": "ipython3",
   "version": "3.4.3"
  }
 },
 "nbformat": 4,
 "nbformat_minor": 0
}

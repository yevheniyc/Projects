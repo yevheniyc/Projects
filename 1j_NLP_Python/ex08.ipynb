{
 "cells": [
  {
   "cell_type": "markdown",
   "metadata": {},
   "source": [
    "# Exercise 08: semantic similarity"
   ]
  },
  {
   "cell_type": "markdown",
   "metadata": {},
   "source": [
    "First, let's create a function to calculate a *MinHash*:"
   ]
  },
  {
   "cell_type": "code",
   "execution_count": 1,
   "metadata": {
    "collapsed": true
   },
   "outputs": [],
   "source": [
    "from datasketch import MinHash # greate library for Probabilistic Data Structures\n",
    "\n",
    "def mh_digest (data):\n",
    "  mh = MinHash(num_perm=512)\n",
    "\n",
    "  for d in data:\n",
    "    mh.update(d.encode('utf8')) # hashing and encoding with utf8\n",
    "\n",
    "  return mh"
   ]
  },
  {
   "cell_type": "markdown",
   "metadata": {},
   "source": [
    "Then we'll iterate through each parsed document, adding the keywords to the MinHash:"
   ]
  },
  {
   "cell_type": "code",
   "execution_count": 2,
   "metadata": {
    "collapsed": false
   },
   "outputs": [
    {
     "ename": "ImportError",
     "evalue": "No module named 'textblob_aptagger'",
     "output_type": "error",
     "traceback": [
      "\u001b[0;31m---------------------------------------------------------------------------\u001b[0m",
      "\u001b[0;31mImportError\u001b[0m                               Traceback (most recent call last)",
      "\u001b[0;32m<ipython-input-2-50975c85d015>\u001b[0m in \u001b[0;36m<module>\u001b[0;34m()\u001b[0m\n\u001b[0;32m----> 1\u001b[0;31m \u001b[0;32mimport\u001b[0m \u001b[0mpynlp\u001b[0m\u001b[0;34m\u001b[0m\u001b[0m\n\u001b[0m\u001b[1;32m      2\u001b[0m \u001b[0;34m\u001b[0m\u001b[0m\n\u001b[1;32m      3\u001b[0m \u001b[0mfiles\u001b[0m \u001b[0;34m=\u001b[0m \u001b[0;34m[\u001b[0m\u001b[0;34m\"a4.json\"\u001b[0m\u001b[0;34m,\u001b[0m \u001b[0;34m\"a3.json\"\u001b[0m\u001b[0;34m,\u001b[0m \u001b[0;34m\"a2.json\"\u001b[0m\u001b[0;34m,\u001b[0m \u001b[0;34m\"a1.json\"\u001b[0m\u001b[0;34m]\u001b[0m\u001b[0;34m\u001b[0m\u001b[0m\n\u001b[1;32m      4\u001b[0m \u001b[0;34m\u001b[0m\u001b[0m\n\u001b[1;32m      5\u001b[0m \u001b[0mstopwords\u001b[0m \u001b[0;34m=\u001b[0m \u001b[0mpynlp\u001b[0m\u001b[0;34m.\u001b[0m\u001b[0mload_stopwords\u001b[0m\u001b[0;34m(\u001b[0m\u001b[0;34m\"stop.txt\"\u001b[0m\u001b[0;34m)\u001b[0m\u001b[0;34m\u001b[0m\u001b[0m\n",
      "\u001b[0;32m/Users/whitehat/US/dev/projects/nlp/pynlp.py\u001b[0m in \u001b[0;36m<module>\u001b[0;34m()\u001b[0m\n\u001b[1;32m     10\u001b[0m \u001b[0;32mimport\u001b[0m \u001b[0msys\u001b[0m\u001b[0;34m\u001b[0m\u001b[0m\n\u001b[1;32m     11\u001b[0m \u001b[0;32mimport\u001b[0m \u001b[0mtextblob\u001b[0m\u001b[0;34m\u001b[0m\u001b[0m\n\u001b[0;32m---> 12\u001b[0;31m \u001b[0;32mimport\u001b[0m \u001b[0mtextblob_aptagger\u001b[0m \u001b[0;32mas\u001b[0m \u001b[0mtag\u001b[0m\u001b[0;34m\u001b[0m\u001b[0m\n\u001b[0m\u001b[1;32m     13\u001b[0m \u001b[0;32mimport\u001b[0m \u001b[0municodedata\u001b[0m\u001b[0;34m\u001b[0m\u001b[0m\n\u001b[1;32m     14\u001b[0m \u001b[0;34m\u001b[0m\u001b[0m\n",
      "\u001b[0;31mImportError\u001b[0m: No module named 'textblob_aptagger'"
     ]
    }
   ],
   "source": [
    "import pynlp\n",
    "\n",
    "files = [\"a4.json\", \"a3.json\", \"a2.json\", \"a1.json\"]\n",
    "\n",
    "stopwords = pynlp.load_stopwords(\"stop.txt\")\n",
    "files_set = {}\n",
    "files_mh = {}\n",
    "\n",
    "for json_file in files: # for each json file initialize keywords\n",
    "  keywords = set([])\n",
    "\n",
    "  for lex in pynlp.lex_iter(json_file):\n",
    "    if (lex.pos != \".\") and (lex.root not in stopwords): # throw away punctuations\n",
    "      keywords.add(lex.root) # add cannonical version of that word to the set\n",
    "\n",
    "  files_set[json_file] = keywords\n",
    "  files_mh[json_file] = mh_digest(keywords) # run the minhash algorithm\n",
    "\n",
    "  print(json_file, keywords)"
   ]
  },
  {
   "cell_type": "markdown",
   "metadata": {},
   "source": [
    "Let's compare the HTML documents, using a pairwise MinHash to approximate their Jaccard similarity:"
   ]
  },
  {
   "cell_type": "code",
   "execution_count": null,
   "metadata": {
    "collapsed": false
   },
   "outputs": [],
   "source": [
    "# after leveraging MinHas instead of Jaccard and compare all 4 documents with each other\n",
    "import itertools\n",
    "\n",
    "sim = []\n",
    "\n",
    "for i1, i2 in itertools.combinations(range(len(files)), 2):\n",
    "  j = files_mh[files[i1]].jaccard(files_mh[files[i2]])\n",
    "  sim.append((j, files[i1], files[i2],))\n",
    "\n",
    "# MinHash to MinHas comparison is very cheap - a few persent of accuracy can buy a few degrees\n",
    "# of speed\n",
    "for jaccard, file1, file2 in sorted(sim, key=lambda x: x[0], reverse=True):\n",
    "  print(\"%0.4f\\t%s\\t%s\" % (jaccard, file1, file2))"
   ]
  },
  {
   "cell_type": "markdown",
   "metadata": {},
   "source": [
    "Note the top-ranked (\"most similar\") pair, where both `html/article2.html` and `html/article3.html` are about machine learning. Take a look at their overlapping keywords:"
   ]
  },
  {
   "cell_type": "code",
   "execution_count": null,
   "metadata": {
    "collapsed": false
   },
   "outputs": [],
   "source": [
    "files_set[\"a3.json\"] & files_set[\"a2.json\"]\n",
    "# show the intersection words for the documents that have been approximated with MinHas\n",
    "# what other documents are out there that are similar to this set of documents? "
   ]
  }
 ],
 "metadata": {
  "kernelspec": {
   "display_name": "Python 3",
   "language": "python",
   "name": "python3"
  },
  "language_info": {
   "codemirror_mode": {
    "name": "ipython",
    "version": 3
   },
   "file_extension": ".py",
   "mimetype": "text/x-python",
   "name": "python",
   "nbconvert_exporter": "python",
   "pygments_lexer": "ipython3",
   "version": "3.4.3"
  }
 },
 "nbformat": 4,
 "nbformat_minor": 0
}

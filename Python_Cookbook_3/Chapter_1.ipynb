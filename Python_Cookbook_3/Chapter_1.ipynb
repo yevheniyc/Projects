{
 "cells": [
  {
   "cell_type": "markdown",
   "metadata": {
    "collapsed": true
   },
   "source": [
    "##Chapter 1 - Data Structures and Algorithms \n",
    "***\n",
    "\n",
    "###1.1 Unpacking a Sequence into Separate Variables:\n",
    "#####Problem:\n",
    "    Unpacking tuple/sequence into a collection of variables\n",
    "    \n",
    "#####Solution:\n",
    "    Any sequence/iterable can be unpacked into variables using an assignment operation. The number of variables and structure must match the number of sequence items:"
   ]
  },
  {
   "cell_type": "code",
   "execution_count": null,
   "metadata": {
    "collapsed": false
   },
   "outputs": [],
   "source": [
    "p = (4, 5, 6, 7)\n",
    "x, y, z, w = p # x -> 4\n",
    "\n",
    "data = ['ACME', 50, 91.1, (2012, 12, 21)] \n",
    "name, _, price, date = data # name -> 'ACME', data -> (2012, 12, 21)\n",
    "\n",
    "s = 'Hello'\n",
    "a, b, c, d, e = s # a -> H\n",
    "\n",
    "p = (4, 5)\n",
    "x, y, z = p # \"ValueError\""
   ]
  },
  {
   "cell_type": "markdown",
   "metadata": {},
   "source": [
    "***"
   ]
  },
  {
   "cell_type": "markdown",
   "metadata": {},
   "source": [
    "###1.2 Unpacking Elements from Iterables of Arbitrary Length:\n",
    "#####Problem:\n",
    "    Unpacking unknown number of elements in tuple/sequence/iterables into variables\n",
    "    \n",
    "#####Solution:\n",
    "    Use \"star expressions\" for handling multiples:"
   ]
  },
  {
   "cell_type": "code",
   "execution_count": 4,
   "metadata": {
    "collapsed": true
   },
   "outputs": [],
   "source": [
    "def drop_first_last(grades):\n",
    "    \"\"\" Drop first and last exams, then average the rest. \"\"\"\n",
    "    first, *middle, last = grades\n",
    "    return avg(middle)\n",
    "\n",
    "def arbitrary_numbers():\n",
    "    \"\"\" Name and email followed by phone number(s). \"\"\"\n",
    "    record = ('Dave', 'dave@example.com', '555-555-5555', '555-555-5544')\n",
    "    name, email, *phone_numbers = record # phone_number always a list\n",
    "    return phone_numbers\n",
    "\n",
    "def recent_to_first_n():\n",
    "    \"\"\" Most recent quarter compares to the average of the first n. \"\"\"\n",
    "    sales_records = ('23.444', '234.23', '0', 23.12, '15.56')\n",
    "    *trailing_qtrs, current_qtr = sales_record\n",
    "    trailing_avg = sum(trailing_qtrs) / len(trailing_qtrs)\n",
    "    return avg_comparison(trailing_avg, current_qtr)"
   ]
  },
  {
   "cell_type": "markdown",
   "metadata": {},
   "source": [
    "#####Discussion:\n",
    "    This is often implemented with iterables of unknown(arbitrary) length, and known pattern: \"everything after element 1 is a number\".\n",
    "    \n",
    "    1. Handy when iterating over a sequence of tuples of varying length or of tagged tuples.\n",
    "    2. Handy when unpacking with string processing operations\n",
    "    3. Handy when unpacking and throwing away some variables\n",
    "    4. Handly when spliting a list into head and tail components, which could be used to implement recursive solutions."
   ]
  },
  {
   "cell_type": "code",
   "execution_count": null,
   "metadata": {
    "collapsed": false
   },
   "outputs": [],
   "source": [
    "####### 1 ##############\n",
    "records = [ ('foo', 1, 2), ('bar', 'hello'), ('foo', 3, 4) ]\n",
    "def do_foo(x, y):\n",
    "    print('foo', x, y)\n",
    "    \n",
    "def do_bar(s):\n",
    "    print('bar', s)\n",
    "    \n",
    "for tag, *args in records:\n",
    "    if tag == 'foo':\n",
    "        do_foo(*args)\n",
    "    elif tag == 'bar':\n",
    "        do_bar(*args)\n",
    "#########################\n",
    "\n",
    "######## 2 ##############\n",
    "line = 'nobody:*:-2:-2:Unprivileged User:/var/empty:/usr/bin/false'\n",
    "uname, *fields, homedir, sh = line.split(':') # uname -> nobody\n",
    "#########################\n",
    "\n",
    "######### 3 #############\n",
    "record = ('ACME', 50, 123, 45, (12, 18, 2012))\n",
    "name, *_, (*_, year) = record # name and year\n",
    "#########################\n",
    "\n",
    "######### 4 #############\n",
    "def sum(items):\n",
    "    \"\"\" Recursions are not recommended w/ Python. \"\"\"\n",
    "    head, *tail = items\n",
    "    return head + sum(*tail) if tail else head\n",
    "#########################"
   ]
  },
  {
   "cell_type": "markdown",
   "metadata": {},
   "source": [
    "***"
   ]
  },
  {
   "cell_type": "markdown",
   "metadata": {},
   "source": [
    "###1.3 Keeping the Last N Items (in list queue with deque):\n",
    "#####Problem:\n",
    "    Keep a limited history of the last few items seen during iteration or processing.\n",
    "    \n",
    "#####Solution:\n",
    "    Use collections.deque: perform a simple text search on a sequence of lines and yield matching lines with previous N lines of conext when found:"
   ]
  },
  {
   "cell_type": "code",
   "execution_count": null,
   "metadata": {
    "collapsed": true
   },
   "outputs": [],
   "source": []
  }
 ],
 "metadata": {
  "kernelspec": {
   "display_name": "Python 3",
   "language": "python",
   "name": "python3"
  },
  "language_info": {
   "codemirror_mode": {
    "name": "ipython",
    "version": 3
   },
   "file_extension": ".py",
   "mimetype": "text/x-python",
   "name": "python",
   "nbconvert_exporter": "python",
   "pygments_lexer": "ipython3",
   "version": "3.4.3"
  }
 },
 "nbformat": 4,
 "nbformat_minor": 0
}

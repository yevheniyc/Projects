{
 "cells": [
  {
   "cell_type": "markdown",
   "metadata": {
    "collapsed": true
   },
   "source": [
    "##Chapter 1 - Data Structures and Algorithms \n",
    "***\n",
    "\n",
    "###1.1 Unpacking a Sequence into Separate Variables:\n",
    "#####Problem:\n",
    "    Unpacking tuple/sequence into a collection of variables\n",
    "    \n",
    "#####Solution:\n",
    "    Any sequence/iterable can be unpacked into variables using an assignment operation. The number of variables and structure must match the number of sequence items:"
   ]
  },
  {
   "cell_type": "code",
   "execution_count": null,
   "metadata": {
    "collapsed": false
   },
   "outputs": [],
   "source": [
    "p = (4, 5, 6, 7)\n",
    "x, y, z, w = p # x -> 4\n",
    "\n",
    "data = ['ACME', 50, 91.1, (2012, 12, 21)] \n",
    "name, _, price, date = data # name -> 'ACME', data -> (2012, 12, 21)\n",
    "\n",
    "s = 'Hello'\n",
    "a, b, c, d, e = s # a -> H\n",
    "\n",
    "p = (4, 5)\n",
    "x, y, z = p # \"ValueError\""
   ]
  },
  {
   "cell_type": "markdown",
   "metadata": {},
   "source": [
    "***"
   ]
  },
  {
   "cell_type": "markdown",
   "metadata": {},
   "source": [
    "###1.2 Unpacking Elements from Iterables of Arbitrary Length:\n",
    "#####Problem:\n",
    "    Unpacking unknown number of elements in tuple/sequence/iterables into variables\n",
    "    \n",
    "#####Solution:\n",
    "    Use \"star expressions\" for handling multiples:"
   ]
  },
  {
   "cell_type": "code",
   "execution_count": null,
   "metadata": {
    "collapsed": true
   },
   "outputs": [],
   "source": [
    "def drop_first_last(grades):\n",
    "    \"\"\" Drop first and last exams, then average the rest. \"\"\"\n",
    "    first, *middle, last = grades\n",
    "    return avg(middle)\n",
    "\n",
    "def arbitrary_numbers():\n",
    "    \"\"\" Name and email followed by phone number(s). \"\"\"\n",
    "    record = ('Dave', 'dave@example.com', '555-555-5555', '555-555-5544')\n",
    "    name, email, *phone_numbers = record # phone_number always a list\n",
    "    return phone_numbers\n",
    "\n",
    "def recent_to_first_n():\n",
    "    \"\"\" Most recent quarter compares to the average of the first n. \"\"\"\n",
    "    sales_records = ('23.444', '234.23', '0', 23.12, '15.56')\n",
    "    *trailing_qtrs, current_qtr = sales_record\n",
    "    trailing_avg = sum(trailing_qtrs) / len(trailing_qtrs)\n",
    "    return avg_comparison(trailing_avg, current_qtr)"
   ]
  },
  {
   "cell_type": "markdown",
   "metadata": {},
   "source": [
    "#####Discussion:\n",
    "    This is often implemented with iterables of unknown(arbitrary) length, and known pattern: \"everything after element 1 is a number\".\n",
    "    \n",
    "    1. Handy when iterating over a sequence of tuples of varying length or of tagged tuples.\n",
    "    2. Handy when unpacking with string processing operations\n",
    "    3. Handy when unpacking and throwing away some variables\n",
    "    4. Handly when spliting a list into head and tail components, which could be used to implement recursive solutions."
   ]
  },
  {
   "cell_type": "code",
   "execution_count": null,
   "metadata": {
    "collapsed": false
   },
   "outputs": [],
   "source": [
    "####### 1 ##############\n",
    "records = [ ('foo', 1, 2), ('bar', 'hello'), ('foo', 3, 4) ]\n",
    "def do_foo(x, y):\n",
    "    print('foo', x, y)\n",
    "    \n",
    "def do_bar(s):\n",
    "    print('bar', s)\n",
    "    \n",
    "for tag, *args in records:\n",
    "    if tag == 'foo':\n",
    "        do_foo(*args)\n",
    "    elif tag == 'bar':\n",
    "        do_bar(*args)\n",
    "#########################\n",
    "\n",
    "######## 2 ##############\n",
    "line = 'nobody:*:-2:-2:Unprivileged User:/var/empty:/usr/bin/false'\n",
    "uname, *fields, homedir, sh = line.split(':') # uname -> nobody\n",
    "#########################\n",
    "\n",
    "######### 3 #############\n",
    "record = ('ACME', 50, 123, 45, (12, 18, 2012))\n",
    "name, *_, (*_, year) = record # name and year\n",
    "#########################\n",
    "\n",
    "######### 4 #############\n",
    "def sum(items):\n",
    "    \"\"\" Recursions are not recommended w/ Python. \"\"\"\n",
    "    head, *tail = items\n",
    "    return head + sum(*tail) if tail else head\n",
    "#########################"
   ]
  },
  {
   "cell_type": "markdown",
   "metadata": {},
   "source": [
    "***"
   ]
  },
  {
   "cell_type": "markdown",
   "metadata": {},
   "source": [
    "###1.3 Keeping the Last N Items (in list queue with deque):\n",
    "#####Problem:\n",
    "    Keep a limited history of the last few items seen during iteration or processing.\n",
    "    \n",
    "#####Solution:\n",
    "    Use collections.deque: perform a simple text search on a sequence of lines and yield matching lines with previous N lines of conext when found:"
   ]
  },
  {
   "cell_type": "code",
   "execution_count": null,
   "metadata": {
    "collapsed": false
   },
   "outputs": [],
   "source": [
    "from collections import deque\n",
    "\n",
    "def search(lines, pattern, history=5):\n",
    "    \"\"\" Returns a line that matches the pattern and 5 previous lines\"\"\"\n",
    "    previous_lines = deque(maxlen=history) # a generator of a list with max length\n",
    "    for line in lines:\n",
    "        if pattern in line:\n",
    "            yield line, previous_lines\n",
    "        previous_lines.append(line)\n",
    "        \n",
    "# Example use on a file\n",
    "if __name__ == '__main__':\n",
    "    with open('somefile.txt') as f:\n",
    "        for line, prevlines in search(f, 'python', 5):\n",
    "            for pline in prevlines:\n",
    "                print(pline, end='')\n",
    "            print(line, end='')\n",
    "            print('-' * 20)"
   ]
  },
  {
   "cell_type": "markdown",
   "metadata": {},
   "source": [
    "    \n",
    "#####Discussion:\n",
    "    Generator functions (with yield) are common when searching for items. This decouples the process of searching from the code that uses results.\n",
    "    1. deque(maxlen=5) uses  fixed-size queue; although we could append/delete items from a list, this is more elegant/faster\n",
    "    2. Handly when a simple queue structure is needed; without maxlen, use pop/append\n",
    "    3. Popping/appending/popleft/appendleft has O(1) vs O(N) complexity"
   ]
  },
  {
   "cell_type": "code",
   "execution_count": null,
   "metadata": {
    "collapsed": true
   },
   "outputs": [],
   "source": [
    "######## 1, 2, 3 ########\n",
    "q = deque(maxlen=3)\n",
    "q.append(1)\n",
    "q.appendleft(4)\n",
    "q.pop() # 1\n",
    "q.popleft() # 4\n",
    "#########################"
   ]
  },
  {
   "cell_type": "markdown",
   "metadata": {},
   "source": [
    "***"
   ]
  },
  {
   "cell_type": "markdown",
   "metadata": {},
   "source": [
    "###1.4 Finding the Largest or Smallest N Items\n",
    "\n",
    "#####Problem:\n",
    "    Make a list of the largest or smallest N items in a collection.\n",
    "    \n",
    "#####Solution:\n",
    "    The heapq module has nlargest() and nsmallest()"
   ]
  },
  {
   "cell_type": "code",
   "execution_count": null,
   "metadata": {
    "collapsed": false
   },
   "outputs": [],
   "source": [
    "import heapq\n",
    "\n",
    "nums = [1, 8, 2, 23, 7, -4, 18, 23, 42, 37, 2]\n",
    "print(heapq.nlargest(3, nums))  # [42, 37 ,23]\n",
    "print(heapq.nsmallest(3, nums)) # [-4, 1, 2]\n",
    "\n",
    "# use key parameter to use with complicated data structures\n",
    "portfolio = [\n",
    "    {'name': 'IBM', 'shares': 100, 'price': 91.1},\n",
    "    {'name': 'AAPL', 'shares': 50, 'price': 543.22},\n",
    "    {'name': 'FB', 'shares': 200, 'price': 21.09},\n",
    "    {'name': 'HPQ', 'shares': 35, 'price': 31.75},\n",
    "    {'name': 'YHOO', 'shares': 45, 'price': 16.35},\n",
    "    {'name': 'ACME', 'shares': 75, 'price': 115.65}\n",
    "]\n",
    "    \n",
    "cheap = heapq.nsmallest(3, portfolio, key=lambda s: s['price'])\n",
    "expensive = heapq.nlargest(3, portfolio, key=lambda s: s['price'])"
   ]
  },
  {
   "cell_type": "markdown",
   "metadata": {},
   "source": [
    "#####Discussion\n",
    "    heapq provides superior performance. heap[0] is always the smallest number"
   ]
  }
 ],
 "metadata": {
  "kernelspec": {
   "display_name": "Python 3",
   "language": "python",
   "name": "python3"
  },
  "language_info": {
   "codemirror_mode": {
    "name": "ipython",
    "version": 3
   },
   "file_extension": ".py",
   "mimetype": "text/x-python",
   "name": "python",
   "nbconvert_exporter": "python",
   "pygments_lexer": "ipython3",
   "version": "3.4.3"
  }
 },
 "nbformat": 4,
 "nbformat_minor": 0
}

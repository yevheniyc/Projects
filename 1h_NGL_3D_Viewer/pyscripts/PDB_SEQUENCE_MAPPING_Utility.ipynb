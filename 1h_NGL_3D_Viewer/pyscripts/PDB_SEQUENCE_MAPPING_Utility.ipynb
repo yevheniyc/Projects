{
 "cells": [
  {
   "cell_type": "markdown",
   "metadata": {},
   "source": [
    "## Map Multi-Chain Ab Structure to Amino Acid Sequence\n",
    "---\n",
    "\n",
    "1. Extract PDB Sequence\n",
    "2. Parse the Input File with reference and clone sequences\n",
    "3. Multiple Alignment\n",
    "4. Post-processing and generation of the final JSON"
   ]
  },
  {
   "cell_type": "code",
   "execution_count": 2,
   "metadata": {
    "collapsed": true
   },
   "outputs": [],
   "source": [
    "''' \n",
    "    Library Imports\n",
    "'''\n",
    "import sys\n",
    "import os\n",
    "from collections import OrderedDict, defaultdict\n",
    "import pprint\n",
    "from Bio.PDB import *\n",
    "from Bio.Seq import Seq"
   ]
  },
  {
   "cell_type": "code",
   "execution_count": 3,
   "metadata": {
    "collapsed": true
   },
   "outputs": [],
   "source": [
    "'''\n",
    "   pdbparser.py - Yevheniy Chuba - 6/1/2017\n",
    "   Parse local or external (PDB Database) 3D structure files (.pdb, .cif)\n",
    "'''\n",
    "import os\n",
    "from Bio.PDB import *\n",
    "from Bio.Seq import Seq\n",
    "\n",
    "class PdbParser:\n",
    "    '''\n",
    "        PdbParser extracts amino acid sequence from PDB structure, \n",
    "        either downloaded from PDB database or uploaded localy .pdb file\n",
    "        \n",
    "        Args:\n",
    "            pdb_struct_name (string): name of the file or PDB database ID\n",
    "            external (bool): True indicates the structure comes from an external\n",
    "                             PDB database; default is False (local .pdb file)\n",
    "        Returns:\n",
    "            Extracted amino acid sequence from the PDB file, including chain information\n",
    "    '''\n",
    "    \n",
    "    def __init__(self, struct_name, struct_dir='PDB_Struct', external=False):\n",
    "        self.struct_name = struct_name\n",
    "        self.struct_dir = struct_dir\n",
    "        self.external = external\n",
    "        \n",
    "    def pdb_processing(self):\n",
    "        \"\"\"\n",
    "            Process either uploaded or externally downloaded 3D structure\n",
    "        \"\"\"\n",
    "        if self.external:\n",
    "            self.pdb_struct = self.get_external_struct()\n",
    "        else:\n",
    "            self.pdb_struct = self.get_uploaded_struct()\n",
    "            \n",
    "        extracted_seq = self.extract_seq_from_structure(self.pdb_struct)\n",
    "        return extracted_seq\n",
    "        \n",
    "    def get_external_struct(self):\n",
    "        \"\"\"\n",
    "            Create Structure object from externally downloed (PDB Database) structure file (.cif)\n",
    "        \"\"\"\n",
    "        self.download_structure()\n",
    "        parser = MMCIFParser()\n",
    "        structure = parser.get_structure('STRUCT_OBJ', \n",
    "                                         os.path.join(self.struct_dir, self.struct_name) + '.cif')\n",
    "        return structure\n",
    "    \n",
    "    def get_uploaded_struct(self):\n",
    "        \"\"\"\n",
    "            Create Structure object from locally uploaded structure file (.pdb)\n",
    "        \"\"\"\n",
    "        parser = PDBParser()\n",
    "        structure = parser.get_structure('STRUCT_OBJ',\n",
    "                                         os.path.join(self.struct_dir, self.struct_name))\n",
    "        return structure\n",
    "            \n",
    "    def download_structure(self):\n",
    "        \"\"\"\n",
    "            Download structure from PDB database based on PDB ID\n",
    "        \"\"\"\n",
    "        pdbl = PDBList()\n",
    "        pdbl.retrieve_pdb_file(self.struct_name, pdir=self.struct_dir)\n",
    "        \n",
    "    def extract_seq_from_structure(self, struct):\n",
    "        \"\"\"\n",
    "            Extract Polypeptides from a Structure Object\n",
    "        \"\"\"\n",
    "        ppb = PPBuilder() # Polypeptide builder object\n",
    "        aa_seqs = []\n",
    "        chains = struct.get_chains()\n",
    "        for pp in ppb.build_peptides(struct):\n",
    "            seq = pp.get_sequence()\n",
    "            aa_seqs.append(str(seq))\n",
    "        chain_aa_map = [[chain.id, aa_seqs[index]] for index, chain in enumerate(chains)]\n",
    "        return chain_aa_map\n",
    "        \n",
    "        \n",
    "            \n"
   ]
  },
  {
   "cell_type": "code",
   "execution_count": 4,
   "metadata": {},
   "outputs": [
    {
     "name": "stdout",
     "output_type": "stream",
     "text": [
      "[['A', 'TAGELYQRWERYRRECQETLAAAEPPSGLACNGSFDMYVCWDYAAPNATARASCPWYLPWHHHVAAGFVLRQCGSDGQWGLWRDHTQCENPE'], ['B', 'TAGELYQRWERYRRECQETLAAAEPPSGLACNGSFDMYVCWDYAAPNATARASCPWYLPWHHHVAAGFVLRQCGSDGQWGLWRDHTQCENP'], ['P', 'QLQQSGAEVKKPGSSVKVSCKASGGTFSSYAISWVRQAPGQGLEWMGGIIPTFGTANYAQKFQGRVTITADESTSTAYMELSSLRSEDTAVYYCAQGPIVGAPTDYWGKGTLVTVSSASTKGPSVFPLAPS'], ['Q', 'GTAALGCLVKDYFPEPVTVSWNSGALTSGVHTFPAVLQSSGLYSLSSVVTVPSS'], ['D', 'TQTYICNVNHKPSNTKVDKRV'], ['C', 'SYVLTQPPSASGTPGQRVAISCSGSNSNIGSNTVHWYQQLPGAAPKLLIYSNNQRPSGVPDRFSGSNSGTSASLAISRLQSEDEADYYCAAWDDSLNGVVFGGGTKVTVLQPKAAPSVTLFPPSSEELQANKATLVCLISDFYPGAVTVAWKADSSPVKAGVETTTPSKQSNNKYAASSYLSLTPEQWKSHRSYSCQVTHE']]\n"
     ]
    }
   ],
   "source": [
    "parser = PdbParser(\"4hj0.pdb\")\n",
    "print(parser.pdb_processing())"
   ]
  },
  {
   "cell_type": "code",
   "execution_count": 5,
   "metadata": {
    "collapsed": true
   },
   "outputs": [],
   "source": [
    "'''\n",
    "    MultiAlign.py - Yevheniy Chuba - 6/1/2017\n",
    "    Perform multiple alignment using ClustalW\n",
    "'''\n",
    "from collections import OrderedDict\n",
    "from Bio.Align.Applications import ClustalwCommandline\n",
    "from Bio import AlignIO\n",
    "\n",
    "class MultiAlign:\n",
    "    '''\n",
    "        MultiAlign performs multiple alignment using BioPython's \n",
    "        ClustalW wrapper.\n",
    "        \n",
    "        Args:\n",
    "            clustal_input(str): .fasta input file with multiple sequences\n",
    "            clustal_output(str): .fasta output file in Clustal format\n",
    "            clustal_w(str): the location of the clustalw2 command line utility\n",
    "                            - make sure it is in the system's or user's bin directory\n",
    "                            - this tool is usually downloaded manually and doesn't come\n",
    "                            as BioPython's dependency\n",
    "                            - make sure it has proper permissions (give it 777 if not sure)\n",
    "            \n",
    "        Returns:\n",
    "            A dictionary, mapping sequence id to sequence string\n",
    "    '''\n",
    "    def __init__(self, clustal_input='clustal_in.fasta', \n",
    "                 clustal_output='clustal_out.fasta', clustalw='clustalw2'):\n",
    "        self.clustal_input = clustal_input\n",
    "        self.clustal_output = clustal_output\n",
    "        self.clustalw = clustalw\n",
    "        \n",
    "    def perform_alignment(self):\n",
    "        clustalw_cline = ClustalwCommandline(self.clustalw, \n",
    "                                             infile=self.clustal_input,\n",
    "                                             outfile=self.clustal_output)\n",
    "        print(clustalw_cline)\n",
    "        stdout, stderr = clustalw_cline()\n",
    "        \n",
    "        align = AlignIO.read(self.clustal_output, \"clustal\")\n",
    "        id_seq = self.extract_seqs(align)\n",
    "        return id_seq\n",
    "        \n",
    "    def extract_seqs(self, align):\n",
    "        return {record.id: str(record.seq) for record in align}"
   ]
  },
  {
   "cell_type": "code",
   "execution_count": 6,
   "metadata": {},
   "outputs": [
    {
     "name": "stdout",
     "output_type": "stream",
     "text": [
      "clustalw2 -infile=create.fasta -outfile=clustal_out.fasta\n"
     ]
    },
    {
     "data": {
      "text/plain": [
       "{'2130': 'DIQMTQSPSSLSASVGDRVTITCRASQGIRDDLGWYQQKAGKAPKRLIYDASSLQSGVPSRFSGSGSGTEFTLTISSLQPEDFATYYCLQYESYPWTFGQGTKVEIKEVQLVESGGGLVQPGGSLRLSCAASGFTFSSYNINWVRQAPGKGLEWVSSISSSSSGYMYYAESVKGRFTISRDNAKNSLYLQMNSLRAEDTAVYYCAREDYYYYGMDVWGQGTLVTVSS---------',\n",
       " '2131': 'DIQMTQSPSSLSASVGDRVTITCRASQGIRDDLGWYQQKAGKAPKRLIYDASSLQSGVPSRFSGSGSGTEFTLTISSLQPEDFATYYCLQYESYPWTFGQGTKVEIKEVQLVESGGGLVQPGGSLRLSCAASGFTFSSYNINWVRQAPGKGLEWVSSISSSSSGYMYYAESVKGRFTISRDNAKNSLYLQMNSLRAEDTAVYYCAREDYYYYGMDVWGQGTLVTVSS---------',\n",
       " '2133': 'DIQMTQSPSSLSASVGDRVTITCRASQGIRDDLGWYQQKAGKAPKRLIYDASSLQSGVPSRFSGSGSGTEFTLTISSLQPEDFATYYCLQYESYPWTFGQGTKVEIKEVQLVESGGGLVQPGGSLRLSCAASGFTFSSYNINWVRQAPGKGLEWVSSISSSSSGYMYYAESVKGRFTISRDNAKNSLYLQMNSLRAEDTAVYYCAREDYYYYGMDVWGQGTLVTVSS---------',\n",
       " '2699': 'DIQMTQSPSSLSASVGDRVTITCRASQGIRDDLGWYQQKAGKAPKRLIYDASSLQSGVPSRFSGSGSGTEFTLTISSLQPEDFATYYCLQYESYPWTFGQGTKVEIKEVQLVESGGGLVQPGGSLRLSCAASGFTFSSYNINWVRQAPGKGLEWVSSISSSSSGYMYYAESVKGRFTISRDNAKNSLYLQMNSLRAEDTAVYYCAREDYYYYGMDVWGQGTLVTVSS---------',\n",
       " '2701': 'DIQMTQSPSSLSASVGDRVTITCRASQGIRDDLGWYQQKAGKAPKRLIYDASSLQSGVPSRFSGSGSGTEFTLTISSLQPEDFATYYCLQYESYPWTFGQGTKVEIKEVQLVESGGGLVQPGGSLRLSCAASGFTFSSYNINWVRQAPGKGLEWVSSISSSSSGYMYYAESVKGRFTISRDNAKNSLYLQMNSLRAEDTAVYYCAREDYYYYGMDVWGQGTLVTVSS---------',\n",
       " '2703': 'DIQMTQSPSSLSASVGDRVTITCRASQGIRDDLGWYQQKAGKAPKRLIYDASSLQSGVPSRFSGSGSGTEFTLTISSLQPEDFATYYCLQYESYPWTFGQGTKVEIKEVQLVESGGGLVQPGGSLRLSCAASGFTFSSYNINWVRQAPGKGLEWVSSISSSSSGYMYYAESVKGRFTISRDNAKNSLYLQMNSLRAEDTAVYYCAREDYYYYGMDVWGQGTLVTVSS---------',\n",
       " '2704': 'DIQMTQSPSSLSASVGDRVTITCRASQGIRDDLGWYQQKAGKAPKRLIYDASSLQSGVPSRFSGSGSGTEFTLTISSLQPEDFATYYCLQYESYPWTFGQGTKVEIKEVQLVESGGGLVQPGGSLRLSCAASGFTFSSYNINWVRQAPGKGLEWVSSISSSSSGYMYYAESVKGRFTISRDNAKNSLYLQMNSLRAEDTAVYYCAREDYYYYGMDVWGQGTLVTVSS---------',\n",
       " 'pdb_seq': 'DIQMTQSPSSLSASVGDRVTITCRASQGIRDDLGWYQQKAGKAPKRLIYDASSLQSGVPSRFSGSGSGTEFTLTISSLQPEDFATYYCLQYESYPWTFGQGTKVEIKEVQLVESGGGLVQPGGSLRLSCAASGFTFSSYNINWVRQAPGKGLEWVSSISSSSSGYMYYAESVKGRFTISRDNAKNSLYLQMNSLRAEDTAVYYCAREDYYYYGMDVWGQGTLVTVSS---------',\n",
       " 'ref_seq': 'DIQMTQSPSSLSASVGDRVTITCRASQGIRDDLGWYQQKAGKAPKRLIYDASSLQSGVPSRFSGSGSGTEFTLTISSLQPEDFATYYCLQYESYPWTFGQGTKVEIKEVQLVESGGGLVQPGGSLRLSCAASGFTFSSYNINWVRQAPGKGLEWVSSISSSSSGYMYYAESVKGRFTISRDNAKNSLYLQMNSLRAEDTAVYYCAREDYYYYGMDVWGQGTLVTVSSGYMMMESSS'}"
      ]
     },
     "execution_count": 6,
     "metadata": {},
     "output_type": "execute_result"
    }
   ],
   "source": [
    "multi_align = MultiAlign(clustal_input='create.fasta')\n",
    "id_seq_map = multi_align.perform_alignment()\n",
    "id_seq_map"
   ]
  },
  {
   "cell_type": "code",
   "execution_count": 7,
   "metadata": {
    "collapsed": true
   },
   "outputs": [],
   "source": [
    "'''\n",
    "    InputProcessor.py - Yevheniy Chuba - 6/1/2017\n",
    "    Currently Parses input CSV file and extracts: Sequence ID, Group, Sequence.\n",
    "    It then returns the following data structure for further pre-processing:\n",
    "        {group_id: [['seq_id', 'seq], ... ], \n",
    "         ...\n",
    "         }\n",
    "'''\n",
    "\n",
    "import os\n",
    "from collections import OrderedDict\n",
    "import csv\n",
    "import pandas as pd\n",
    "\n",
    "class InputProcessor:\n",
    "    '''\n",
    "        Takes in any data format (various excell versions, csv, tsv)\n",
    "        and then extracts group, seq_id, seq information\n",
    "        \n",
    "        Args:\n",
    "            input_file(str): the input file to be processed\n",
    "        \n",
    "        Returns:\n",
    "            {group_id: [['seq_id', 'seq], ... ], \n",
    "             ...\n",
    "             }\n",
    "    '''\n",
    "    def __init__(self, input_file):\n",
    "        self.input_file = input_file\n",
    "        \n",
    "    def process_input(self):\n",
    "        \"\"\"\n",
    "            Combines file conversion and sequence information extraction\n",
    "        \"\"\"\n",
    "        csv_file_name = self.convert_to_csv()\n",
    "        group_id_seq = self.get_sequences(csv_file_name)\n",
    "        return group_id_seq\n",
    "        \n",
    "        \n",
    "    def convert_to_csv(self):\n",
    "        \"\"\"\n",
    "            Convert any given format to csv for cleaner processing\n",
    "        \"\"\"\n",
    "        csv_file_name = ''\n",
    "        with open(self.input_file, 'r+') as input_f:\n",
    "            # open either excell or csv file\n",
    "            file_ext = input_f.name.lower()\n",
    "            if file_ext.endswith(('.xlsx', 'xls', 'xlt')):\n",
    "                df = pd.read_excel(input_f, header=None)\n",
    "            else:\n",
    "                df = pd.read_csv(input_f, header=None)\n",
    "            # convert to .csv\n",
    "            csv_file_name = os.path.splitext(input_f.name)[0] + \".csv\"\n",
    "            df.to_csv(csv_file_name, header=None, index=None, sep=',')\n",
    "        return csv_file_name\n",
    "    \n",
    "    def get_sequences(self, file_name):\n",
    "        \"\"\"\n",
    "            Extract Group Name, Sequence ID, Sequence String (no gaps)\n",
    "        \"\"\"\n",
    "        main_ds = OrderedDict()\n",
    "        with open(file_name, 'r+') as input_f:\n",
    "            for line in input_f:\n",
    "                flag = line.split(',')[3]\n",
    "                if line.split(',')[3] in ('0', '1'):\n",
    "                    column_data = line.split(',')\n",
    "                    molecule_name = column_data[1]\n",
    "                    group_id = column_data[2]\n",
    "                    seq = column_data[4].replace('-', '')\n",
    "                    if group_id in main_ds.keys():\n",
    "                        main_ds[group_id].append([molecule_name, seq])\n",
    "                    else:\n",
    "                        main_ds[group_id] = [[molecule_name, seq]]\n",
    "        return main_ds\n",
    "            \n"
   ]
  },
  {
   "cell_type": "code",
   "execution_count": 10,
   "metadata": {},
   "outputs": [
    {
     "ename": "IOError",
     "evalue": "[Errno 2] No such file or directory: 'Specific_File.xlsx'",
     "output_type": "error",
     "traceback": [
      "\u001b[0;31m---------------------------------------------------------------------------\u001b[0m",
      "\u001b[0;31mIOError\u001b[0m                                   Traceback (most recent call last)",
      "\u001b[0;32m<ipython-input-10-08c70b7a69c8>\u001b[0m in \u001b[0;36m<module>\u001b[0;34m()\u001b[0m\n\u001b[1;32m      1\u001b[0m \u001b[0minput_processor\u001b[0m \u001b[0;34m=\u001b[0m \u001b[0mInputProcessor\u001b[0m\u001b[0;34m(\u001b[0m\u001b[0;34m'Specific_File.xlsx'\u001b[0m\u001b[0;34m)\u001b[0m\u001b[0;34m\u001b[0m\u001b[0m\n\u001b[0;32m----> 2\u001b[0;31m \u001b[0mds\u001b[0m \u001b[0;34m=\u001b[0m \u001b[0minput_processor\u001b[0m\u001b[0;34m.\u001b[0m\u001b[0mprocess_input\u001b[0m\u001b[0;34m(\u001b[0m\u001b[0;34m)\u001b[0m\u001b[0;34m\u001b[0m\u001b[0m\n\u001b[0m\u001b[1;32m      3\u001b[0m \u001b[0;32mprint\u001b[0m\u001b[0;34m(\u001b[0m\u001b[0mds\u001b[0m\u001b[0;34m)\u001b[0m\u001b[0;34m\u001b[0m\u001b[0m\n",
      "\u001b[0;32m<ipython-input-7-957b2491bccc>\u001b[0m in \u001b[0;36mprocess_input\u001b[0;34m(self)\u001b[0m\n\u001b[1;32m     33\u001b[0m             \u001b[0mCombines\u001b[0m \u001b[0mfile\u001b[0m \u001b[0mconversion\u001b[0m \u001b[0;32mand\u001b[0m \u001b[0msequence\u001b[0m \u001b[0minformation\u001b[0m \u001b[0mextraction\u001b[0m\u001b[0;34m\u001b[0m\u001b[0m\n\u001b[1;32m     34\u001b[0m         \"\"\"\n\u001b[0;32m---> 35\u001b[0;31m         \u001b[0mcsv_file_name\u001b[0m \u001b[0;34m=\u001b[0m \u001b[0mself\u001b[0m\u001b[0;34m.\u001b[0m\u001b[0mconvert_to_csv\u001b[0m\u001b[0;34m(\u001b[0m\u001b[0;34m)\u001b[0m\u001b[0;34m\u001b[0m\u001b[0m\n\u001b[0m\u001b[1;32m     36\u001b[0m         \u001b[0mgroup_id_seq\u001b[0m \u001b[0;34m=\u001b[0m \u001b[0mself\u001b[0m\u001b[0;34m.\u001b[0m\u001b[0mget_sequences\u001b[0m\u001b[0;34m(\u001b[0m\u001b[0mcsv_file_name\u001b[0m\u001b[0;34m)\u001b[0m\u001b[0;34m\u001b[0m\u001b[0m\n\u001b[1;32m     37\u001b[0m         \u001b[0;32mreturn\u001b[0m \u001b[0mgroup_id_seq\u001b[0m\u001b[0;34m\u001b[0m\u001b[0m\n",
      "\u001b[0;32m<ipython-input-7-957b2491bccc>\u001b[0m in \u001b[0;36mconvert_to_csv\u001b[0;34m(self)\u001b[0m\n\u001b[1;32m     43\u001b[0m         \"\"\"\n\u001b[1;32m     44\u001b[0m         \u001b[0mcsv_file_name\u001b[0m \u001b[0;34m=\u001b[0m \u001b[0;34m''\u001b[0m\u001b[0;34m\u001b[0m\u001b[0m\n\u001b[0;32m---> 45\u001b[0;31m         \u001b[0;32mwith\u001b[0m \u001b[0mopen\u001b[0m\u001b[0;34m(\u001b[0m\u001b[0mself\u001b[0m\u001b[0;34m.\u001b[0m\u001b[0minput_file\u001b[0m\u001b[0;34m,\u001b[0m \u001b[0;34m'r+'\u001b[0m\u001b[0;34m)\u001b[0m \u001b[0;32mas\u001b[0m \u001b[0minput_f\u001b[0m\u001b[0;34m:\u001b[0m\u001b[0;34m\u001b[0m\u001b[0m\n\u001b[0m\u001b[1;32m     46\u001b[0m             \u001b[0;31m# open either excell or csv file\u001b[0m\u001b[0;34m\u001b[0m\u001b[0;34m\u001b[0m\u001b[0m\n\u001b[1;32m     47\u001b[0m             \u001b[0mfile_ext\u001b[0m \u001b[0;34m=\u001b[0m \u001b[0minput_f\u001b[0m\u001b[0;34m.\u001b[0m\u001b[0mname\u001b[0m\u001b[0;34m.\u001b[0m\u001b[0mlower\u001b[0m\u001b[0;34m(\u001b[0m\u001b[0;34m)\u001b[0m\u001b[0;34m\u001b[0m\u001b[0m\n",
      "\u001b[0;31mIOError\u001b[0m: [Errno 2] No such file or directory: 'Specific_File.xlsx'"
     ]
    }
   ],
   "source": [
    "input_processor = InputProcessor('Specific_File.xlsx')\n",
    "ds = input_processor.process_input()\n",
    "print(ds)"
   ]
  },
  {
   "cell_type": "code",
   "execution_count": 9,
   "metadata": {
    "collapsed": true
   },
   "outputs": [],
   "source": [
    "'''\n",
    "    FastaGen - Yevheniy Chuba - 6/1/2017\n",
    "    Prepares sequences from various groups for multiple alignment,\n",
    "    by combining sequences of the same group into a single fasta file.\n",
    "    The output is the list of fasta file names separated by group.\n",
    "'''\n",
    "\n",
    "class FastaGen:\n",
    "    \n",
    "    def __init__(self, seq_ds):\n",
    "        self.seq_ds = seq_ds\n",
    "        \n",
    "    def process_seqs(self):\n",
    "        file_names = []\n",
    "        for group_id, seqs in seq_ds.iteritems():\n",
    "            output_file_name = 'group_{}.fasta'.format(group_id)\n",
    "            file_names.append(output_file_name)\n",
    "            with open(output_file_name, 'w') as output_f:\n",
    "                for record in seqs:\n",
    "                    seq_id = record[0]\n",
    "                    seq = record[1]\n",
    "                    output_f.write('>{}\\n'.format(seq_id))\n",
    "                    output_f.write(seq)\n",
    "                    output_f.write('\\n')\n",
    "        return file_names"
   ]
  },
  {
   "cell_type": "code",
   "execution_count": null,
   "metadata": {
    "collapsed": true
   },
   "outputs": [],
   "source": []
  }
 ],
 "metadata": {
  "kernelspec": {
   "display_name": "Python 2",
   "language": "python",
   "name": "python2"
  },
  "language_info": {
   "codemirror_mode": {
    "name": "ipython",
    "version": 2
   },
   "file_extension": ".py",
   "mimetype": "text/x-python",
   "name": "python",
   "nbconvert_exporter": "python",
   "pygments_lexer": "ipython2",
   "version": "2.7.11"
  }
 },
 "nbformat": 4,
 "nbformat_minor": 1
}

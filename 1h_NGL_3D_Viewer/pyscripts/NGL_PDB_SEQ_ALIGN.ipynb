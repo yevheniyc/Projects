{
 "cells": [
  {
   "cell_type": "markdown",
   "metadata": {},
   "source": [
    "## Maping Multi-Chain Ab Structure to Amino Acid Sequence\n",
    "---\n",
    "\n",
    "1. Align to PDB Sequence\n",
    "2. Highlight Coresponding Positions\n"
   ]
  },
  {
   "cell_type": "code",
   "execution_count": 1,
   "metadata": {
    "collapsed": true
   },
   "outputs": [],
   "source": [
    "import sys\n",
    "import os\n",
    "import nglview as ngl\n",
    "from Bio.PDB import *\n",
    "from Bio.Seq import Seq\n",
    "from Bio import pairwise2 # pairwise alignment"
   ]
  },
  {
   "cell_type": "code",
   "execution_count": 2,
   "metadata": {},
   "outputs": [
    {
     "name": "stderr",
     "output_type": "stream",
     "text": [
      "The installed widget Javascript is the wrong version.\n"
     ]
    }
   ],
   "source": [
    "# Globals\n",
    "PDB_ID = '4hj0'\n",
    "DIR = 'PDB_Struct'\n",
    "\n",
    "# Structure Viewer from PDB_ID(NGL)\n",
    "view = ngl.show_pdbid(PDB_ID)\n",
    "view"
   ]
  },
  {
   "cell_type": "code",
   "execution_count": 4,
   "metadata": {},
   "outputs": [
    {
     "name": "stderr",
     "output_type": "stream",
     "text": [
      "WARNING: The default download format has changed from PDB to PDBx/mmCif\n"
     ]
    },
    {
     "name": "stdout",
     "output_type": "stream",
     "text": [
      "Structure exists: 'PDB_Struct/4hj0.cif' \n"
     ]
    }
   ],
   "source": [
    "# download structure from PDB\n",
    "pdbl = PDBList()\n",
    "pdbl.retrieve_pdb_file(PDB_ID, pdir=DIR)\n",
    "\n",
    "# parse the structure\n",
    "p = PDBParser()\n",
    "parser = MMCIFParser()\n",
    "structure = parser.get_structure('STRUCT_OBJ', os.path.join(DIR, PDB_ID) + '.cif')"
   ]
  },
  {
   "cell_type": "code",
   "execution_count": 5,
   "metadata": {},
   "outputs": [
    {
     "name": "stdout",
     "output_type": "stream",
     "text": [
      "TAGELYQRWERYRRECQETLAAAEPPSGLACNGSFDMYVCWDYAAPNATARASCPWYLPWHHHVAAGFVLRQCGSDGQWGLWRDHTQCENPE\n",
      "        92: T -> RASCPWY\n",
      "TAGELYQRWERYRRECQETLAAAEPPSGLACNGSFDMYVCWDYAAPNATARASCPWYLPWHHHVAAGFVLRQCGSDGQWGLWRDHTQCENP\n",
      "        91: T -> RASCPWY\n",
      "QLQQSGAEVKKPGSSVKVSCKASGGTFSSYAISWVRQAPGQGLEWMGGIIPTFGTANYAQKFQGRVTITADESTSTAYMELSSLRSEDTAVYYCAQGPIVGAPTDYWGKGTLVTVSSASTKGPSVFPLAPS\n",
      "        131: Q -> PTFGTAN\n",
      "GTAALGCLVKDYFPEPVTVSWNSGALTSGVHTFPAVLQSSGLYSLSSVVTVPSS\n",
      "TQTYICNVNHKPSNTKVDKRV\n",
      "SYVLTQPPSASGTPGQRVAISCSGSNSNIGSNTVHWYQQLPGAAPKLLIYSNNQRPSGVPDRFSGSNSGTSASLAISRLQSEDEADYYCAAWDDSLNGVVFGGGTKVTVLQPKAAPSVTLFPPSSEELQANKATLVCLISDFYPGAVTVAWKADSSPVKAGVETTTPSKQSNNKYAASSYLSLTPEQWKSHRSYSCQVTHE\n",
      "        201: S -> SNNQRPS\n",
      "VEKTVAPTE\n",
      "SYVLTQPPSASGTPGQRVAISCSGSNSNIGSNTVHWYQQLPGAAPKLLIYSNNQRPSGVPDRFSGSNSGTSASLAISRLQSEDEADYYCAAWDDSLNGVVFGGGTKVTVLQPKAAPSVTLFPPSSEELQANKATLVCLISDFYPGAVTVAWKADSSPVKAGVETTTPSKQSNNKYAASSYLSLTPEQWKSHRSYSCQVTHEG\n",
      "        202: S -> SNNQRPS\n",
      "VEKTVAPTE\n",
      "QLQQSGAEVKKPGSSVKVSCKASGGTFSSYAISWVRQAPGQGLEWMGGIIPTFGTANYAQKFQGRVTITADESTSTAYMELSSLRSEDTAVYYCAQGPIVGAPTDYWGKGTLVTVSSASTKGPSVFPLAP\n",
      "        130: Q -> PTFGTAN\n",
      "GTAALGCLVKDYFPEPVTVSWNSGALTSGVHTFPAVLQSSGLYSLSSVVTVPSS\n",
      "TQTYICNVNHKPSNTKVDKRV\n",
      "===========================================================================\n",
      "Full PDB AA SEQ: \n",
      "\n",
      "TAGELYQRWERYRRECQETLAAAEPPSGLACNGSFDMYVCWDYAAPNATARASCPWYLPWHHHVAAGFVLRQCGSDGQWGLWRDHTQCENPETAGELYQRWERYRRECQETLAAAEPPSGLACNGSFDMYVCWDYAAPNATARASCPWYLPWHHHVAAGFVLRQCGSDGQWGLWRDHTQCENPQLQQSGAEVKKPGSSVKVSCKASGGTFSSYAISWVRQAPGQGLEWMGGIIPTFGTANYAQKFQGRVTITADESTSTAYMELSSLRSEDTAVYYCAQGPIVGAPTDYWGKGTLVTVSSASTKGPSVFPLAPSGTAALGCLVKDYFPEPVTVSWNSGALTSGVHTFPAVLQSSGLYSLSSVVTVPSSTQTYICNVNHKPSNTKVDKRVSYVLTQPPSASGTPGQRVAISCSGSNSNIGSNTVHWYQQLPGAAPKLLIYSNNQRPSGVPDRFSGSNSGTSASLAISRLQSEDEADYYCAAWDDSLNGVVFGGGTKVTVLQPKAAPSVTLFPPSSEELQANKATLVCLISDFYPGAVTVAWKADSSPVKAGVETTTPSKQSNNKYAASSYLSLTPEQWKSHRSYSCQVTHEVEKTVAPTESYVLTQPPSASGTPGQRVAISCSGSNSNIGSNTVHWYQQLPGAAPKLLIYSNNQRPSGVPDRFSGSNSGTSASLAISRLQSEDEADYYCAAWDDSLNGVVFGGGTKVTVLQPKAAPSVTLFPPSSEELQANKATLVCLISDFYPGAVTVAWKADSSPVKAGVETTTPSKQSNNKYAASSYLSLTPEQWKSHRSYSCQVTHEGVEKTVAPTEQLQQSGAEVKKPGSSVKVSCKASGGTFSSYAISWVRQAPGQGLEWMGGIIPTFGTANYAQKFQGRVTITADESTSTAYMELSSLRSEDTAVYYCAQGPIVGAPTDYWGKGTLVTVSSASTKGPSVFPLAPGTAALGCLVKDYFPEPVTVSWNSGALTSGVHTFPAVLQSSGLYSLSSVVTVPSSTQTYICNVNHKPSNTKVDKRV\n"
     ]
    }
   ],
   "source": [
    "# Extract Polypeptides from a Structure Object:\n",
    "ppb = PPBuilder()\n",
    "complete_aa_seq = []\n",
    "for pp in ppb.build_peptides(structure):\n",
    "    seq = pp.get_sequence()\n",
    "    print(seq)\n",
    "    complete_aa_seq.append(str(seq))\n",
    "    if len(pp.get_sequence()) >= 55:\n",
    "        print ('        ' + str(len(seq)) + ': ' + seq[0] + ' -> ' + seq[50:57])\n",
    "\n",
    "print('=====' * 15)\n",
    "print('Full PDB AA SEQ: \\n\\n' + ''.join(complete_aa_seq))"
   ]
  },
  {
   "cell_type": "code",
   "execution_count": 6,
   "metadata": {},
   "outputs": [
    {
     "name": "stdout",
     "output_type": "stream",
     "text": [
      "TAGELYQRWERYRRECQETLAAAEPPSGLACNGSFDMYVCWDYAAPNATARASCPWYLPWHHHVAAGFVLRQCGSDGQWGLWRDHTQCENPE\n"
     ]
    }
   ],
   "source": [
    "# Align Sequences\n",
    "ref_seq = 'TAGELYQRWERYRRECQETLAAAEPPSGLACNGSFDMYVCWDYAAPNATARASCPWYLPWHHHVAAGFVLRQCGSDGQWGLWRDHTQCENPE'\n",
    "pdb_seq = 'TAGELYQRWERYRRECQETLAAAEPPSGLACNGSFDMYVCWDYAAPNATARASCPWYLPWHHHVAAGFVLRQCGSDGQWGLWRDHTQCENPE'\n",
    "\n",
    "align = pairwise2.align.localms(ref_seq, pdb_seq, 2, -1, -.5, -.1)\n",
    "ref_seq_a, pdb_seq_a, _, _, _ = align[0]\n",
    "\n",
    "print(ref_seq_a)\n",
    "\n",
    "with open('/Users/whitehat/US/dev/projects/1h_NGL_3D_Viewer/pyscripts/aligned_out.txt', 'w') as out_f:\n",
    "    out_f.write(ref_seq_a)\n",
    "    out_f.write('\\n\\n')\n",
    "    out_f.write(pdb_seq_a)\n"
   ]
  }
 ],
 "metadata": {
  "kernelspec": {
   "display_name": "Python 2",
   "language": "python",
   "name": "python2"
  },
  "language_info": {
   "codemirror_mode": {
    "name": "ipython",
    "version": 2
   },
   "file_extension": ".py",
   "mimetype": "text/x-python",
   "name": "python",
   "nbconvert_exporter": "python",
   "pygments_lexer": "ipython2",
   "version": "2.7.11"
  }
 },
 "nbformat": 4,
 "nbformat_minor": 2
}
